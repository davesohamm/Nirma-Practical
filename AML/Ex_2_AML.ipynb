{
  "nbformat": 4,
  "nbformat_minor": 0,
  "metadata": {
    "colab": {
      "provenance": [],
      "authorship_tag": "ABX9TyMduyifSbC1Zrb3o1sUHiIc",
      "include_colab_link": true
    },
    "kernelspec": {
      "name": "python3",
      "display_name": "Python 3"
    },
    "language_info": {
      "name": "python"
    }
  },
  "cells": [
    {
      "cell_type": "markdown",
      "metadata": {
        "id": "view-in-github",
        "colab_type": "text"
      },
      "source": [
        "<a href=\"https://colab.research.google.com/github/davesohamm/Nirma-Practical/blob/main/AML/Ex_2_AML.ipynb\" target=\"_parent\"><img src=\"https://colab.research.google.com/assets/colab-badge.svg\" alt=\"Open In Colab\"/></a>"
      ]
    },
    {
      "cell_type": "code",
      "execution_count": null,
      "metadata": {
        "id": "-x1zESuuunqg"
      },
      "outputs": [],
      "source": [
        "import numpy as np"
      ]
    },
    {
      "cell_type": "markdown",
      "source": [
        "To print numpy version we use print(np.__version__) and to print the configuration of numpy we can use np.show_config() method"
      ],
      "metadata": {
        "id": "Jaur9AyTKP8f"
      }
    },
    {
      "cell_type": "code",
      "source": [
        "print(np.__version__)"
      ],
      "metadata": {
        "colab": {
          "base_uri": "https://localhost:8080/"
        },
        "id": "B9CdmDPiKlXD",
        "outputId": "444249e1-f2ec-4ac4-8210-7f1f35210b5a"
      },
      "execution_count": null,
      "outputs": [
        {
          "output_type": "stream",
          "name": "stdout",
          "text": [
            "2.0.2\n"
          ]
        }
      ]
    },
    {
      "cell_type": "code",
      "source": [
        "np.show_config()"
      ],
      "metadata": {
        "colab": {
          "base_uri": "https://localhost:8080/"
        },
        "id": "35SpRJ_NKm4q",
        "outputId": "95c62383-a484-4c08-bf6a-14ef430bdd9f"
      },
      "execution_count": null,
      "outputs": [
        {
          "output_type": "stream",
          "name": "stdout",
          "text": [
            "Build Dependencies:\n",
            "  blas:\n",
            "    detection method: pkgconfig\n",
            "    found: true\n",
            "    include directory: /opt/_internal/cpython-3.11.8/lib/python3.11/site-packages/scipy_openblas64/include\n",
            "    lib directory: /opt/_internal/cpython-3.11.8/lib/python3.11/site-packages/scipy_openblas64/lib\n",
            "    name: scipy-openblas\n",
            "    openblas configuration: OpenBLAS 0.3.27  USE64BITINT DYNAMIC_ARCH NO_AFFINITY\n",
            "      Zen MAX_THREADS=64\n",
            "    pc file directory: /project/.openblas\n",
            "    version: 0.3.27\n",
            "  lapack:\n",
            "    detection method: pkgconfig\n",
            "    found: true\n",
            "    include directory: /opt/_internal/cpython-3.11.8/lib/python3.11/site-packages/scipy_openblas64/include\n",
            "    lib directory: /opt/_internal/cpython-3.11.8/lib/python3.11/site-packages/scipy_openblas64/lib\n",
            "    name: scipy-openblas\n",
            "    openblas configuration: OpenBLAS 0.3.27  USE64BITINT DYNAMIC_ARCH NO_AFFINITY\n",
            "      Zen MAX_THREADS=64\n",
            "    pc file directory: /project/.openblas\n",
            "    version: 0.3.27\n",
            "Compilers:\n",
            "  c:\n",
            "    commands: cc\n",
            "    linker: ld.bfd\n",
            "    name: gcc\n",
            "    version: 10.2.1\n",
            "  c++:\n",
            "    commands: c++\n",
            "    linker: ld.bfd\n",
            "    name: gcc\n",
            "    version: 10.2.1\n",
            "  cython:\n",
            "    commands: cython\n",
            "    linker: cython\n",
            "    name: cython\n",
            "    version: 3.0.11\n",
            "Machine Information:\n",
            "  build:\n",
            "    cpu: x86_64\n",
            "    endian: little\n",
            "    family: x86_64\n",
            "    system: linux\n",
            "  host:\n",
            "    cpu: x86_64\n",
            "    endian: little\n",
            "    family: x86_64\n",
            "    system: linux\n",
            "Python Information:\n",
            "  path: /tmp/build-env-zm_4loqi/bin/python\n",
            "  version: '3.11'\n",
            "SIMD Extensions:\n",
            "  baseline:\n",
            "  - SSE\n",
            "  - SSE2\n",
            "  - SSE3\n",
            "  found:\n",
            "  - SSSE3\n",
            "  - SSE41\n",
            "  - POPCNT\n",
            "  - SSE42\n",
            "  - AVX\n",
            "  - F16C\n",
            "  - FMA3\n",
            "  - AVX2\n",
            "  not found:\n",
            "  - AVX512F\n",
            "  - AVX512CD\n",
            "  - AVX512_KNL\n",
            "  - AVX512_KNM\n",
            "  - AVX512_SKX\n",
            "  - AVX512_CLX\n",
            "  - AVX512_CNL\n",
            "  - AVX512_ICL\n",
            "\n"
          ]
        }
      ]
    },
    {
      "cell_type": "markdown",
      "source": [
        "to create a null vector of size n, we use np.zeros(n) method"
      ],
      "metadata": {
        "id": "cjHLWdVyKr6e"
      }
    },
    {
      "cell_type": "code",
      "source": [
        "z = np.zeros(10)\n",
        "print(z)"
      ],
      "metadata": {
        "colab": {
          "base_uri": "https://localhost:8080/"
        },
        "id": "Aj7Xd0kVK7Jm",
        "outputId": "e409f076-918c-449b-ca4a-eb3722ba577d"
      },
      "execution_count": null,
      "outputs": [
        {
          "output_type": "stream",
          "name": "stdout",
          "text": [
            "[0. 0. 0. 0. 0. 0. 0. 0. 0. 0.]\n"
          ]
        }
      ]
    },
    {
      "cell_type": "markdown",
      "source": [
        "To find the memory size of any array, we use (z.size * z.itemsize) :"
      ],
      "metadata": {
        "id": "GbeBLMteLAGI"
      }
    },
    {
      "cell_type": "code",
      "source": [
        "y = np.zeros((10,10))\n",
        "print(\"%d bytes\" % (y.size * y.itemsize))"
      ],
      "metadata": {
        "colab": {
          "base_uri": "https://localhost:8080/"
        },
        "id": "XmQKbxkhOso8",
        "outputId": "313dd5d7-ce74-4548-fb28-d284ed42d195"
      },
      "execution_count": null,
      "outputs": [
        {
          "output_type": "stream",
          "name": "stdout",
          "text": [
            "800 bytes\n"
          ]
        }
      ]
    },
    {
      "cell_type": "markdown",
      "source": [
        "To get the documentation of any nupy function like add, subtract, etc.. from the command line itself, we use this command :"
      ],
      "metadata": {
        "id": "J2MoBgFrO-aD"
      }
    },
    {
      "cell_type": "code",
      "source": [
        "np.info(np.add)"
      ],
      "metadata": {
        "colab": {
          "base_uri": "https://localhost:8080/"
        },
        "id": "-x7T2h3MPL1K",
        "outputId": "94959398-097d-4f62-881c-6f0d3a264f12"
      },
      "execution_count": null,
      "outputs": [
        {
          "output_type": "stream",
          "name": "stdout",
          "text": [
            "add(x1, x2, /, out=None, *, where=True, casting='same_kind', order='K', dtype=None, subok=True[, signature])\n",
            "\n",
            "Add arguments element-wise.\n",
            "\n",
            "Parameters\n",
            "----------\n",
            "x1, x2 : array_like\n",
            "    The arrays to be added.\n",
            "    If ``x1.shape != x2.shape``, they must be broadcastable to a common\n",
            "    shape (which becomes the shape of the output).\n",
            "out : ndarray, None, or tuple of ndarray and None, optional\n",
            "    A location into which the result is stored. If provided, it must have\n",
            "    a shape that the inputs broadcast to. If not provided or None,\n",
            "    a freshly-allocated array is returned. A tuple (possible only as a\n",
            "    keyword argument) must have length equal to the number of outputs.\n",
            "where : array_like, optional\n",
            "    This condition is broadcast over the input. At locations where the\n",
            "    condition is True, the `out` array will be set to the ufunc result.\n",
            "    Elsewhere, the `out` array will retain its original value.\n",
            "    Note that if an uninitialized `out` array is created via the default\n",
            "    ``out=None``, locations within it where the condition is False will\n",
            "    remain uninitialized.\n",
            "**kwargs\n",
            "    For other keyword-only arguments, see the\n",
            "    :ref:`ufunc docs <ufuncs.kwargs>`.\n",
            "\n",
            "Returns\n",
            "-------\n",
            "add : ndarray or scalar\n",
            "    The sum of `x1` and `x2`, element-wise.\n",
            "    This is a scalar if both `x1` and `x2` are scalars.\n",
            "\n",
            "Notes\n",
            "-----\n",
            "Equivalent to `x1` + `x2` in terms of array broadcasting.\n",
            "\n",
            "Examples\n",
            "--------\n",
            ">>> np.add(1.0, 4.0)\n",
            "5.0\n",
            ">>> x1 = np.arange(9.0).reshape((3, 3))\n",
            ">>> x2 = np.arange(3.0)\n",
            ">>> np.add(x1, x2)\n",
            "array([[  0.,   2.,   4.],\n",
            "       [  3.,   5.,   7.],\n",
            "       [  6.,   8.,  10.]])\n",
            "\n",
            "The ``+`` operator can be used as a shorthand for ``np.add`` on ndarrays.\n",
            "\n",
            ">>> x1 = np.arange(9.0).reshape((3, 3))\n",
            ">>> x2 = np.arange(3.0)\n",
            ">>> x1 + x2\n",
            "array([[ 0.,  2.,  4.],\n",
            "       [ 3.,  5.,  7.],\n",
            "       [ 6.,  8., 10.]])\n"
          ]
        }
      ]
    },
    {
      "cell_type": "code",
      "source": [
        "np.info(np.subtract)"
      ],
      "metadata": {
        "colab": {
          "base_uri": "https://localhost:8080/"
        },
        "id": "mTmHPZByP0Hm",
        "outputId": "4be22764-a229-47c5-ec43-2a2b5fe77e53"
      },
      "execution_count": null,
      "outputs": [
        {
          "output_type": "stream",
          "name": "stdout",
          "text": [
            "subtract(x1, x2, /, out=None, *, where=True, casting='same_kind', order='K', dtype=None, subok=True[, signature])\n",
            "\n",
            "Subtract arguments, element-wise.\n",
            "\n",
            "Parameters\n",
            "----------\n",
            "x1, x2 : array_like\n",
            "    The arrays to be subtracted from each other.\n",
            "    If ``x1.shape != x2.shape``, they must be broadcastable to a common\n",
            "    shape (which becomes the shape of the output).\n",
            "out : ndarray, None, or tuple of ndarray and None, optional\n",
            "    A location into which the result is stored. If provided, it must have\n",
            "    a shape that the inputs broadcast to. If not provided or None,\n",
            "    a freshly-allocated array is returned. A tuple (possible only as a\n",
            "    keyword argument) must have length equal to the number of outputs.\n",
            "where : array_like, optional\n",
            "    This condition is broadcast over the input. At locations where the\n",
            "    condition is True, the `out` array will be set to the ufunc result.\n",
            "    Elsewhere, the `out` array will retain its original value.\n",
            "    Note that if an uninitialized `out` array is created via the default\n",
            "    ``out=None``, locations within it where the condition is False will\n",
            "    remain uninitialized.\n",
            "**kwargs\n",
            "    For other keyword-only arguments, see the\n",
            "    :ref:`ufunc docs <ufuncs.kwargs>`.\n",
            "\n",
            "Returns\n",
            "-------\n",
            "y : ndarray\n",
            "    The difference of `x1` and `x2`, element-wise.\n",
            "    This is a scalar if both `x1` and `x2` are scalars.\n",
            "\n",
            "Notes\n",
            "-----\n",
            "Equivalent to ``x1 - x2`` in terms of array broadcasting.\n",
            "\n",
            "Examples\n",
            "--------\n",
            ">>> np.subtract(1.0, 4.0)\n",
            "-3.0\n",
            "\n",
            ">>> x1 = np.arange(9.0).reshape((3, 3))\n",
            ">>> x2 = np.arange(3.0)\n",
            ">>> np.subtract(x1, x2)\n",
            "array([[ 0.,  0.,  0.],\n",
            "       [ 3.,  3.,  3.],\n",
            "       [ 6.,  6.,  6.]])\n",
            "\n",
            "The ``-`` operator can be used as a shorthand for ``np.subtract`` on\n",
            "ndarrays.\n",
            "\n",
            ">>> x1 = np.arange(9.0).reshape((3, 3))\n",
            ">>> x2 = np.arange(3.0)\n",
            ">>> x1 - x2\n",
            "array([[0., 0., 0.],\n",
            "       [3., 3., 3.],\n",
            "       [6., 6., 6.]])\n"
          ]
        }
      ]
    },
    {
      "cell_type": "markdown",
      "source": [
        "to manipulate the value of an array :"
      ],
      "metadata": {
        "id": "jK9e0AJjQKjs"
      }
    },
    {
      "cell_type": "code",
      "source": [
        "x = np.zeros(10)\n",
        "x[5] = 1\n",
        "print(x)"
      ],
      "metadata": {
        "colab": {
          "base_uri": "https://localhost:8080/"
        },
        "id": "QHjMZwJNQSaR",
        "outputId": "3178be8a-55b9-43db-a4eb-615c950115e5"
      },
      "execution_count": null,
      "outputs": [
        {
          "output_type": "stream",
          "name": "stdout",
          "text": [
            "[0. 0. 0. 0. 0. 1. 0. 0. 0. 0.]\n"
          ]
        }
      ]
    },
    {
      "cell_type": "markdown",
      "source": [
        "create a vector with values ranging m to n, we use np.arange(m, n+1) method :"
      ],
      "metadata": {
        "id": "r_9HbO8WQY-R"
      }
    },
    {
      "cell_type": "code",
      "source": [
        "a = np.arange(10, 100)\n",
        "print(a)"
      ],
      "metadata": {
        "colab": {
          "base_uri": "https://localhost:8080/"
        },
        "id": "ocWXd1VvQjmM",
        "outputId": "9cbd5f37-efcb-47e5-9cf5-782859a3ede5"
      },
      "execution_count": null,
      "outputs": [
        {
          "output_type": "stream",
          "name": "stdout",
          "text": [
            "[10 11 12 13 14 15 16 17 18 19 20 21 22 23 24 25 26 27 28 29 30 31 32 33\n",
            " 34 35 36 37 38 39 40 41 42 43 44 45 46 47 48 49 50 51 52 53 54 55 56 57\n",
            " 58 59 60 61 62 63 64 65 66 67 68 69 70 71 72 73 74 75 76 77 78 79 80 81\n",
            " 82 83 84 85 86 87 88 89 90 91 92 93 94 95 96 97 98 99]\n"
          ]
        }
      ]
    },
    {
      "cell_type": "markdown",
      "source": [
        "To reverse a vector we use [::-1] after the vector name :"
      ],
      "metadata": {
        "id": "zcpC0WsHQqJc"
      }
    },
    {
      "cell_type": "code",
      "source": [
        "b = a[::-1]\n",
        "print(b)"
      ],
      "metadata": {
        "colab": {
          "base_uri": "https://localhost:8080/"
        },
        "id": "m9lvlxvcQwm4",
        "outputId": "0bb79518-3379-48d0-c902-88274d9767e9"
      },
      "execution_count": null,
      "outputs": [
        {
          "output_type": "stream",
          "name": "stdout",
          "text": [
            "[99 98 97 96 95 94 93 92 91 90 89 88 87 86 85 84 83 82 81 80 79 78 77 76\n",
            " 75 74 73 72 71 70 69 68 67 66 65 64 63 62 61 60 59 58 57 56 55 54 53 52\n",
            " 51 50 49 48 47 46 45 44 43 42 41 40 39 38 37 36 35 34 33 32 31 30 29 28\n",
            " 27 26 25 24 23 22 21 20 19 18 17 16 15 14 13 12 11 10]\n"
          ]
        }
      ]
    },
    {
      "cell_type": "markdown",
      "source": [
        "To create an $n$ x $n$ matrix with values ranging from 0 to m, we use\n",
        "\n",
        "np.range(m).reshape(n, n) method :"
      ],
      "metadata": {
        "id": "PCBEFxNlQ5qo"
      }
    },
    {
      "cell_type": "code",
      "source": [
        "np.arange(9).reshape(3, 3)"
      ],
      "metadata": {
        "colab": {
          "base_uri": "https://localhost:8080/"
        },
        "id": "fQa-bvD4RZw7",
        "outputId": "eebc124b-61f6-451e-b7d9-e8d9b72c4990"
      },
      "execution_count": null,
      "outputs": [
        {
          "output_type": "execute_result",
          "data": {
            "text/plain": [
              "array([[0, 1, 2],\n",
              "       [3, 4, 5],\n",
              "       [6, 7, 8]])"
            ]
          },
          "metadata": {},
          "execution_count": 12
        }
      ]
    },
    {
      "cell_type": "markdown",
      "source": [
        "to find nonzero element indices from an array, we use np.nonzero([array]) method"
      ],
      "metadata": {
        "id": "zixyfpnsRemW"
      }
    },
    {
      "cell_type": "code",
      "source": [
        "nz = np.nonzero([1, 2, 0, 0, 4, 0, 0, 0, 0, 1, 0, 0, 0, 3])\n",
        "print(nz)"
      ],
      "metadata": {
        "colab": {
          "base_uri": "https://localhost:8080/"
        },
        "id": "rF5CcWs5RqRV",
        "outputId": "d2d100dd-8f56-42ac-8608-0130ae6f7924"
      },
      "execution_count": null,
      "outputs": [
        {
          "output_type": "stream",
          "name": "stdout",
          "text": [
            "(array([ 0,  1,  4,  9, 13]),)\n"
          ]
        }
      ]
    },
    {
      "cell_type": "markdown",
      "source": [
        "To create $n$x$n$ identity matrix we use np.eye(n) method :"
      ],
      "metadata": {
        "id": "xbbiLqacSL2K"
      }
    },
    {
      "cell_type": "code",
      "source": [
        "np.eye(3)"
      ],
      "metadata": {
        "colab": {
          "base_uri": "https://localhost:8080/"
        },
        "id": "z2nK5eGDSXHD",
        "outputId": "b58fe80f-2289-4aa5-89bc-0c945871da2d"
      },
      "execution_count": null,
      "outputs": [
        {
          "output_type": "execute_result",
          "data": {
            "text/plain": [
              "array([[1., 0., 0.],\n",
              "       [0., 1., 0.],\n",
              "       [0., 0., 1.]])"
            ]
          },
          "metadata": {},
          "execution_count": 14
        }
      ]
    },
    {
      "cell_type": "markdown",
      "source": [
        "To create $n$ x $n$ x $n$ array with random values, we use np.random.random((n,n,n))"
      ],
      "metadata": {
        "id": "LqyVCkuZS8eu"
      }
    },
    {
      "cell_type": "code",
      "source": [
        "np.random.random((3,3,3))"
      ],
      "metadata": {
        "colab": {
          "base_uri": "https://localhost:8080/"
        },
        "id": "9CjA2GsVTNRU",
        "outputId": "8a47ed52-9dfc-4c36-e07c-cf3ac11e3d82"
      },
      "execution_count": null,
      "outputs": [
        {
          "output_type": "execute_result",
          "data": {
            "text/plain": [
              "array([[[0.6965113 , 0.72888863, 0.07900998],\n",
              "        [0.1920371 , 0.72219168, 0.51300341],\n",
              "        [0.78168027, 0.33112485, 0.29181049]],\n",
              "\n",
              "       [[0.04448342, 0.06816674, 0.82482709],\n",
              "        [0.62449402, 0.10202458, 0.93247647],\n",
              "        [0.45231274, 0.06239044, 0.67781122]],\n",
              "\n",
              "       [[0.29631658, 0.52907726, 0.28292771],\n",
              "        [0.99812368, 0.5429802 , 0.85017642],\n",
              "        [0.51725191, 0.11114353, 0.23249767]]])"
            ]
          },
          "metadata": {},
          "execution_count": 15
        }
      ]
    },
    {
      "cell_type": "markdown",
      "source": [
        "To find the minimum and maximum values of a matrix, we use min() and max() methods :"
      ],
      "metadata": {
        "id": "3OMzyi5TTYiQ"
      }
    },
    {
      "cell_type": "code",
      "source": [
        "array_example = np.random.random((10, 10))\n",
        "array_min, array_max = array_example.min(), array_example.max()\n",
        "print(f\"The minimum value of array is {array_min}\", f\"\\n The maximum value of array is {array_max}\")"
      ],
      "metadata": {
        "colab": {
          "base_uri": "https://localhost:8080/"
        },
        "id": "6RqETC_ATsR_",
        "outputId": "78f12b68-f757-4660-b48a-e47f4af925f0"
      },
      "execution_count": null,
      "outputs": [
        {
          "output_type": "stream",
          "name": "stdout",
          "text": [
            "The minimum value of array is 0.00260852834573011 \n",
            " The maximum value of array is 0.9900539582090284\n"
          ]
        }
      ]
    },
    {
      "cell_type": "markdown",
      "source": [
        "To find the mean value of an array, we use mean() method.\n"
      ],
      "metadata": {
        "id": "fo6oNeM_T9iR"
      }
    },
    {
      "cell_type": "code",
      "source": [
        "mean_array = np.random.random(30)\n",
        "print(mean_array.mean())"
      ],
      "metadata": {
        "colab": {
          "base_uri": "https://localhost:8080/"
        },
        "id": "gjJbQ6XPdav2",
        "outputId": "45edbba8-0d59-48ce-d01e-7f9c78bf03cc"
      },
      "execution_count": null,
      "outputs": [
        {
          "output_type": "stream",
          "name": "stdout",
          "text": [
            "0.5031276271284387\n"
          ]
        }
      ]
    },
    {
      "cell_type": "markdown",
      "source": [
        "To create a 2D array with 1 on the border and 0 inside, we can use this method :"
      ],
      "metadata": {
        "id": "-8PM06VQdlQr"
      }
    },
    {
      "cell_type": "code",
      "source": [
        "zero_one_array = np.ones((10, 10))\n",
        "zero_one_array[1:-1, 1:-1] = 0\n",
        "print(zero_one_array)"
      ],
      "metadata": {
        "colab": {
          "base_uri": "https://localhost:8080/"
        },
        "id": "OimE7rAOd0O-",
        "outputId": "38f8757b-4c26-4f8b-f176-b09964b8492f"
      },
      "execution_count": null,
      "outputs": [
        {
          "output_type": "stream",
          "name": "stdout",
          "text": [
            "[[1. 1. 1. 1. 1. 1. 1. 1. 1. 1.]\n",
            " [1. 0. 0. 0. 0. 0. 0. 0. 0. 1.]\n",
            " [1. 0. 0. 0. 0. 0. 0. 0. 0. 1.]\n",
            " [1. 0. 0. 0. 0. 0. 0. 0. 0. 1.]\n",
            " [1. 0. 0. 0. 0. 0. 0. 0. 0. 1.]\n",
            " [1. 0. 0. 0. 0. 0. 0. 0. 0. 1.]\n",
            " [1. 0. 0. 0. 0. 0. 0. 0. 0. 1.]\n",
            " [1. 0. 0. 0. 0. 0. 0. 0. 0. 1.]\n",
            " [1. 0. 0. 0. 0. 0. 0. 0. 0. 1.]\n",
            " [1. 1. 1. 1. 1. 1. 1. 1. 1. 1.]]\n"
          ]
        }
      ]
    },
    {
      "cell_type": "markdown",
      "source": [
        "If you want to add a border filled with 0's around an existing array, you can use this method :"
      ],
      "metadata": {
        "id": "LPOhLew4eCRZ"
      }
    },
    {
      "cell_type": "code",
      "source": [
        "zero_border_array = np.ones((5, 5))\n",
        "zero_border_array = np.pad(zero_border_array, pad_width=1, mode='constant', constant_values=0)\n",
        "print(zero_border_array)"
      ],
      "metadata": {
        "colab": {
          "base_uri": "https://localhost:8080/"
        },
        "id": "G-k3Ry8PeSEi",
        "outputId": "30b10d8b-bea7-46c8-e8c3-11ec397db8ec"
      },
      "execution_count": null,
      "outputs": [
        {
          "output_type": "stream",
          "name": "stdout",
          "text": [
            "[[0. 0. 0. 0. 0. 0. 0.]\n",
            " [0. 1. 1. 1. 1. 1. 0.]\n",
            " [0. 1. 1. 1. 1. 1. 0.]\n",
            " [0. 1. 1. 1. 1. 1. 0.]\n",
            " [0. 1. 1. 1. 1. 1. 0.]\n",
            " [0. 1. 1. 1. 1. 1. 0.]\n",
            " [0. 0. 0. 0. 0. 0. 0.]]\n"
          ]
        }
      ]
    },
    {
      "cell_type": "code",
      "source": [
        "print(0 * np.nan)"
      ],
      "metadata": {
        "colab": {
          "base_uri": "https://localhost:8080/"
        },
        "id": "fbE-ZGX5GG2q",
        "outputId": "94588d34-c18f-4832-b56f-1227f9425b94"
      },
      "execution_count": null,
      "outputs": [
        {
          "output_type": "stream",
          "name": "stdout",
          "text": [
            "nan\n"
          ]
        }
      ]
    },
    {
      "cell_type": "code",
      "source": [
        "print(np.nan == np.nan)"
      ],
      "metadata": {
        "colab": {
          "base_uri": "https://localhost:8080/"
        },
        "id": "26x_R7r-GMCJ",
        "outputId": "5459a51d-db4f-44e3-86a3-6a796aa5c45a"
      },
      "execution_count": null,
      "outputs": [
        {
          "output_type": "stream",
          "name": "stdout",
          "text": [
            "False\n"
          ]
        }
      ]
    },
    {
      "cell_type": "code",
      "source": [
        "print(np.inf > np.nan)"
      ],
      "metadata": {
        "colab": {
          "base_uri": "https://localhost:8080/"
        },
        "id": "OqyOlXW0P6qa",
        "outputId": "45977886-8662-46d7-884f-b0fd57bac338"
      },
      "execution_count": null,
      "outputs": [
        {
          "output_type": "stream",
          "name": "stdout",
          "text": [
            "False\n"
          ]
        }
      ]
    },
    {
      "cell_type": "code",
      "source": [
        "print(np.inf)"
      ],
      "metadata": {
        "colab": {
          "base_uri": "https://localhost:8080/"
        },
        "id": "mDpQC8BOP-CV",
        "outputId": "e4b39c7e-ca47-43a0-da8a-f241714c9e4a"
      },
      "execution_count": null,
      "outputs": [
        {
          "output_type": "stream",
          "name": "stdout",
          "text": [
            "inf\n"
          ]
        }
      ]
    },
    {
      "cell_type": "code",
      "source": [
        "print(np.nan - np.nan)"
      ],
      "metadata": {
        "colab": {
          "base_uri": "https://localhost:8080/"
        },
        "id": "wn4RsEdbQAaX",
        "outputId": "3c020ca4-1427-44d4-f2e0-87cf868f842d"
      },
      "execution_count": null,
      "outputs": [
        {
          "output_type": "stream",
          "name": "stdout",
          "text": [
            "nan\n"
          ]
        }
      ]
    },
    {
      "cell_type": "code",
      "source": [
        "print(np.nan in set([np.nan]))"
      ],
      "metadata": {
        "colab": {
          "base_uri": "https://localhost:8080/"
        },
        "id": "qCSGRfNOQD_M",
        "outputId": "e9027ffb-89fd-4abb-9a54-aef1c22c3c44"
      },
      "execution_count": null,
      "outputs": [
        {
          "output_type": "stream",
          "name": "stdout",
          "text": [
            "True\n"
          ]
        }
      ]
    },
    {
      "cell_type": "code",
      "source": [
        "print(0.3 == 3 * 0.1)"
      ],
      "metadata": {
        "colab": {
          "base_uri": "https://localhost:8080/"
        },
        "id": "Mo3B-ytRQH9G",
        "outputId": "a1d6b5f5-b777-4f6e-c6b6-a651754be85f"
      },
      "execution_count": null,
      "outputs": [
        {
          "output_type": "stream",
          "name": "stdout",
          "text": [
            "False\n"
          ]
        }
      ]
    },
    {
      "cell_type": "code",
      "source": [
        "print(np.nan)"
      ],
      "metadata": {
        "colab": {
          "base_uri": "https://localhost:8080/"
        },
        "id": "-Ppf4e8ZQNQQ",
        "outputId": "79cb5669-e4fe-48af-84dd-cacaf5c6d901"
      },
      "execution_count": null,
      "outputs": [
        {
          "output_type": "stream",
          "name": "stdout",
          "text": [
            "nan\n"
          ]
        }
      ]
    },
    {
      "cell_type": "code",
      "source": [
        "print(0.3)"
      ],
      "metadata": {
        "colab": {
          "base_uri": "https://localhost:8080/"
        },
        "id": "Of9O8sp9QPkm",
        "outputId": "17ca3c48-d251-4918-f844-d872b7e182aa"
      },
      "execution_count": null,
      "outputs": [
        {
          "output_type": "stream",
          "name": "stdout",
          "text": [
            "0.3\n"
          ]
        }
      ]
    },
    {
      "cell_type": "code",
      "source": [
        "print(3*0.1)"
      ],
      "metadata": {
        "colab": {
          "base_uri": "https://localhost:8080/"
        },
        "id": "8YdGvCsQQSOF",
        "outputId": "d37e5055-b79d-4bb7-bb96-9348d37c1ef8"
      },
      "execution_count": null,
      "outputs": [
        {
          "output_type": "stream",
          "name": "stdout",
          "text": [
            "0.30000000000000004\n"
          ]
        }
      ]
    },
    {
      "cell_type": "code",
      "source": [
        "print(np.inf > 100000000)"
      ],
      "metadata": {
        "colab": {
          "base_uri": "https://localhost:8080/"
        },
        "id": "fXJnSN8_QUOq",
        "outputId": "286d7473-86e2-4ea2-a47c-697cb43e6e1e"
      },
      "execution_count": null,
      "outputs": [
        {
          "output_type": "stream",
          "name": "stdout",
          "text": [
            "True\n"
          ]
        }
      ]
    },
    {
      "cell_type": "markdown",
      "source": [
        "create a 5x5 matrix with values 1,2,3,4 just below the diagonal :"
      ],
      "metadata": {
        "id": "grpOSc5ZQZh8"
      }
    },
    {
      "cell_type": "code",
      "source": [
        "z = np.diag(1+np.arange(4), k=-1)\n",
        "print(z)"
      ],
      "metadata": {
        "colab": {
          "base_uri": "https://localhost:8080/"
        },
        "id": "9IVtGJjQQlHi",
        "outputId": "5d86b3bc-14e3-419b-c4ae-9e86db3c862e"
      },
      "execution_count": null,
      "outputs": [
        {
          "output_type": "stream",
          "name": "stdout",
          "text": [
            "[[0 0 0 0 0]\n",
            " [1 0 0 0 0]\n",
            " [0 2 0 0 0]\n",
            " [0 0 3 0 0]\n",
            " [0 0 0 4 0]]\n"
          ]
        }
      ]
    },
    {
      "cell_type": "markdown",
      "source": [
        "create a 8x8 matrix and fill it with a checkerboard pattern."
      ],
      "metadata": {
        "id": "skfgzMXLQs8h"
      }
    },
    {
      "cell_type": "code",
      "source": [
        "z = np.zeros((8,8), dtype = int)\n",
        "z[1::2, ::2] = 1\n",
        "z[::2, 1::2] = 1\n",
        "print(z)"
      ],
      "metadata": {
        "colab": {
          "base_uri": "https://localhost:8080/"
        },
        "id": "tV8_EIy_Q2LI",
        "outputId": "993db0df-fb0d-4f01-bf8f-2821c4a42935"
      },
      "execution_count": null,
      "outputs": [
        {
          "output_type": "stream",
          "name": "stdout",
          "text": [
            "[[0 1 0 1 0 1 0 1]\n",
            " [1 0 1 0 1 0 1 0]\n",
            " [0 1 0 1 0 1 0 1]\n",
            " [1 0 1 0 1 0 1 0]\n",
            " [0 1 0 1 0 1 0 1]\n",
            " [1 0 1 0 1 0 1 0]\n",
            " [0 1 0 1 0 1 0 1]\n",
            " [1 0 1 0 1 0 1 0]]\n"
          ]
        }
      ]
    },
    {
      "cell_type": "markdown",
      "source": [
        "Consider a (6,7,8) shape array, what is the index(x,y,z) of the 100th element ?"
      ],
      "metadata": {
        "id": "m-Lz65DdY6mS"
      }
    },
    {
      "cell_type": "code",
      "source": [
        "print(np.unravel_index(99, (6,7,8)))"
      ],
      "metadata": {
        "colab": {
          "base_uri": "https://localhost:8080/"
        },
        "id": "NA82GE6wZHb8",
        "outputId": "f61013cf-ec59-4b54-9864-edc93bd0947f"
      },
      "execution_count": null,
      "outputs": [
        {
          "output_type": "stream",
          "name": "stdout",
          "text": [
            "(np.int64(1), np.int64(5), np.int64(3))\n"
          ]
        }
      ]
    },
    {
      "cell_type": "markdown",
      "source": [
        "create a checkerboard 8 x 8 matrix using the tile function :"
      ],
      "metadata": {
        "id": "GkZNeaYYZNYo"
      }
    },
    {
      "cell_type": "code",
      "source": [
        "z = np.tile(np.array([[0,1], [1,0]]), (4,4))\n",
        "print(z)"
      ],
      "metadata": {
        "colab": {
          "base_uri": "https://localhost:8080/"
        },
        "id": "HdAXeq76ZSJ1",
        "outputId": "2459f2bb-73b5-43ff-9414-2dbedc1695db"
      },
      "execution_count": null,
      "outputs": [
        {
          "output_type": "stream",
          "name": "stdout",
          "text": [
            "[[0 1 0 1 0 1 0 1]\n",
            " [1 0 1 0 1 0 1 0]\n",
            " [0 1 0 1 0 1 0 1]\n",
            " [1 0 1 0 1 0 1 0]\n",
            " [0 1 0 1 0 1 0 1]\n",
            " [1 0 1 0 1 0 1 0]\n",
            " [0 1 0 1 0 1 0 1]\n",
            " [1 0 1 0 1 0 1 0]]\n"
          ]
        }
      ]
    },
    {
      "cell_type": "markdown",
      "source": [
        "normalize a 5 x 5 random matrix :"
      ],
      "metadata": {
        "id": "z_fphRMNZlTZ"
      }
    },
    {
      "cell_type": "code",
      "source": [
        "z = np.random.random((5,5))\n",
        "print(z)\n",
        "print(np.mean(z))\n",
        "print(np.std(z))\n",
        "z = (z - np.mean(z)) / (np.std(z))\n",
        "print(z)"
      ],
      "metadata": {
        "colab": {
          "base_uri": "https://localhost:8080/"
        },
        "id": "02AqmBAuZqOl",
        "outputId": "8f899a33-61d9-49ce-89d4-6e261fdb6041"
      },
      "execution_count": null,
      "outputs": [
        {
          "output_type": "stream",
          "name": "stdout",
          "text": [
            "[[0.79066879 0.0617684  0.38791749 0.1565499  0.57562212]\n",
            " [0.2212408  0.10334087 0.03150479 0.31099364 0.26315207]\n",
            " [0.81585408 0.15510598 0.6583875  0.10433744 0.70590771]\n",
            " [0.49533347 0.08040997 0.91781716 0.91248506 0.14206389]\n",
            " [0.62550442 0.20012703 0.9318953  0.8889169  0.65623906]]\n",
            "0.4477257534948555\n",
            "0.3130717840207721\n",
            "[[ 1.09541344 -1.23280786 -0.19103689 -0.93006099  0.4085209 ]\n",
            " [-0.72342819 -1.10001892 -1.32947453 -0.43674364 -0.58955708]\n",
            " [ 1.17585917 -0.93467309  0.67288639 -1.0968357   0.82467334]\n",
            " [ 0.15206644 -1.17326377  1.50154511  1.48451356 -0.97633155]\n",
            " [ 0.56785272 -0.79086884  1.54651288  1.40923317  0.66602394]]\n"
          ]
        }
      ]
    },
    {
      "cell_type": "markdown",
      "source": [
        "given a 1d array, negate all elements whicha re between 3 and 8, in place."
      ],
      "metadata": {
        "id": "BObbK6ekaBtN"
      }
    },
    {
      "cell_type": "code",
      "source": [
        "z = np.arange(11)\n",
        "print(z)\n",
        "z[(3<z) & (z<=8)] *= -1\n",
        "print(z)"
      ],
      "metadata": {
        "colab": {
          "base_uri": "https://localhost:8080/"
        },
        "id": "4KoOWELGaG3A",
        "outputId": "52038752-8f81-4592-e0cd-4ced67b0e79a"
      },
      "execution_count": null,
      "outputs": [
        {
          "output_type": "stream",
          "name": "stdout",
          "text": [
            "[ 0  1  2  3  4  5  6  7  8  9 10]\n",
            "[ 0  1  2  3 -4 -5 -6 -7 -8  9 10]\n"
          ]
        }
      ]
    },
    {
      "cell_type": "markdown",
      "source": [
        "consider an integer vector z, which of these expressins are legal :"
      ],
      "metadata": {
        "id": "VJmQR94BaWfF"
      }
    },
    {
      "cell_type": "markdown",
      "source": [
        "To find common values between two arrays :"
      ],
      "metadata": {
        "id": "GtLxIyzeosG7"
      }
    },
    {
      "cell_type": "markdown",
      "metadata": {
        "id": "53b1747d"
      },
      "source": [
        "This code calculates the value of `z` raised to the power of `z`."
      ]
    },
    {
      "cell_type": "code",
      "metadata": {
        "colab": {
          "base_uri": "https://localhost:8080/"
        },
        "id": "0d3ffcc4",
        "outputId": "db11a05a-4c55-46b8-bbe5-f8a1d3a90619"
      },
      "source": [
        "z=4\n",
        "z**z"
      ],
      "execution_count": null,
      "outputs": [
        {
          "output_type": "execute_result",
          "data": {
            "text/plain": [
              "256"
            ]
          },
          "metadata": {},
          "execution_count": 37
        }
      ]
    },
    {
      "cell_type": "markdown",
      "metadata": {
        "id": "1f7acd28"
      },
      "source": [
        "This code prints the value of `z` raised to the power of `z`."
      ]
    },
    {
      "cell_type": "code",
      "metadata": {
        "colab": {
          "base_uri": "https://localhost:8080/"
        },
        "id": "a47f2966",
        "outputId": "3cd42950-7ac3-4ee6-93c4-be68fff49b19"
      },
      "source": [
        "print(z**z)"
      ],
      "execution_count": null,
      "outputs": [
        {
          "output_type": "stream",
          "name": "stdout",
          "text": [
            "256\n"
          ]
        }
      ]
    },
    {
      "cell_type": "markdown",
      "metadata": {
        "id": "9d84a0db"
      },
      "source": [
        "This code demonstrates bitwise left and right shifts. `2 << z` shifts 2 left by `z` bits (2 * 2^z), and then `>> 2` shifts the result right by 2 bits (divides by 2^2)."
      ]
    },
    {
      "cell_type": "code",
      "metadata": {
        "colab": {
          "base_uri": "https://localhost:8080/"
        },
        "id": "3fbc5d74",
        "outputId": "06259f91-196f-4c99-b144-65bc889a9b2c"
      },
      "source": [
        "print(2<<z>>2)"
      ],
      "execution_count": null,
      "outputs": [
        {
          "output_type": "stream",
          "name": "stdout",
          "text": [
            "8\n"
          ]
        }
      ]
    },
    {
      "cell_type": "markdown",
      "metadata": {
        "id": "7137228f"
      },
      "source": [
        "This code checks if `z` is less than the negation of `z`. Since `z` is 4, this evaluates to `4 < -4`, which is False."
      ]
    },
    {
      "cell_type": "code",
      "metadata": {
        "colab": {
          "base_uri": "https://localhost:8080/"
        },
        "id": "3aad813d",
        "outputId": "745bc6a3-64f9-4ff6-a3b6-2c2b4d2dbc5e"
      },
      "source": [
        "print(z <- z)"
      ],
      "execution_count": null,
      "outputs": [
        {
          "output_type": "stream",
          "name": "stdout",
          "text": [
            "False\n"
          ]
        }
      ]
    },
    {
      "cell_type": "markdown",
      "metadata": {
        "id": "1b73dede"
      },
      "source": [
        "This code multiplies `z` by the imaginary unit `1j`, resulting in a complex number."
      ]
    },
    {
      "cell_type": "code",
      "metadata": {
        "colab": {
          "base_uri": "https://localhost:8080/"
        },
        "id": "ea8ec93a",
        "outputId": "f8a6a18e-17dc-4c1e-e427-5b3fc9f66f0b"
      },
      "source": [
        "print(1j*z)"
      ],
      "execution_count": null,
      "outputs": [
        {
          "output_type": "stream",
          "name": "stdout",
          "text": [
            "4j\n"
          ]
        }
      ]
    },
    {
      "cell_type": "markdown",
      "metadata": {
        "id": "27561323"
      },
      "source": [
        "This code divides `z` by 1 twice, which is equivalent to `z / 1`, resulting in a float."
      ]
    },
    {
      "cell_type": "code",
      "metadata": {
        "colab": {
          "base_uri": "https://localhost:8080/"
        },
        "id": "d0c63888",
        "outputId": "cb5b9a2e-4804-4daf-c956-b339c46c9ae7"
      },
      "source": [
        "print(z/1/1)"
      ],
      "execution_count": null,
      "outputs": [
        {
          "output_type": "stream",
          "name": "stdout",
          "text": [
            "4.0\n"
          ]
        }
      ]
    },
    {
      "cell_type": "markdown",
      "metadata": {
        "id": "c4ea1a6d"
      },
      "source": [
        "This code checks if `z` is less than `z` AND if `z` is greater than `z`. Both conditions are False, so the result is False."
      ]
    },
    {
      "cell_type": "code",
      "metadata": {
        "colab": {
          "base_uri": "https://localhost:8080/"
        },
        "id": "05b6c0f3",
        "outputId": "d6504bef-747b-46ca-f955-c72a2ffac8fc"
      },
      "source": [
        "print(z<z>z)"
      ],
      "execution_count": null,
      "outputs": [
        {
          "output_type": "stream",
          "name": "stdout",
          "text": [
            "False\n"
          ]
        }
      ]
    },
    {
      "cell_type": "code",
      "source": [
        "z1 = np.random.randint(0,10,10)\n",
        "print(z1)\n",
        "z2 = np.random.randint(0,10,10)\n",
        "print(z2)\n",
        "print(np.intersect1d(z1, z2))"
      ],
      "metadata": {
        "colab": {
          "base_uri": "https://localhost:8080/"
        },
        "id": "TysnPvN4ovXh",
        "outputId": "d0f44775-facd-45c7-b8a3-a1a75f2e390a"
      },
      "execution_count": null,
      "outputs": [
        {
          "output_type": "stream",
          "name": "stdout",
          "text": [
            "[7 7 2 7 5 2 8 2 5 7]\n",
            "[1 2 0 1 7 7 1 4 8 1]\n",
            "[2 7 8]\n"
          ]
        }
      ]
    },
    {
      "cell_type": "markdown",
      "source": [
        "How to get the dates of yesterday, today and tomorrow :"
      ],
      "metadata": {
        "id": "1XFbFpAsd59R"
      }
    },
    {
      "cell_type": "code",
      "source": [
        "yesterday = np.datetime64('today', 'D') - np.timedelta64(1, 'D')\n",
        "today = np.datetime64('today', 'D')\n",
        "tomorrow = np.datetime64('today', 'D') + np.timedelta64(1, 'D')\n",
        "print(yesterday, today, tomorrow)"
      ],
      "metadata": {
        "colab": {
          "base_uri": "https://localhost:8080/"
        },
        "id": "KCG9mjEYjzOE",
        "outputId": "88a32659-4bbb-45b8-aced-d5a7f8a4785d"
      },
      "execution_count": null,
      "outputs": [
        {
          "output_type": "stream",
          "name": "stdout",
          "text": [
            "2025-08-17 2025-08-18 2025-08-19\n"
          ]
        }
      ]
    },
    {
      "cell_type": "markdown",
      "source": [
        "how to get all the dates corresponding to the month of July 2016 :"
      ],
      "metadata": {
        "id": "IBTI6viikQOz"
      }
    },
    {
      "cell_type": "code",
      "source": [
        "z = np.arange('2016-07', '2016-08', dtype='datetime64[D]')\n",
        "print(z)"
      ],
      "metadata": {
        "colab": {
          "base_uri": "https://localhost:8080/"
        },
        "id": "x9Q-I2VPkXZ7",
        "outputId": "c7aaf8e3-8375-4aeb-f39d-b2506f58164c"
      },
      "execution_count": null,
      "outputs": [
        {
          "output_type": "stream",
          "name": "stdout",
          "text": [
            "['2016-07-01' '2016-07-02' '2016-07-03' '2016-07-04' '2016-07-05'\n",
            " '2016-07-06' '2016-07-07' '2016-07-08' '2016-07-09' '2016-07-10'\n",
            " '2016-07-11' '2016-07-12' '2016-07-13' '2016-07-14' '2016-07-15'\n",
            " '2016-07-16' '2016-07-17' '2016-07-18' '2016-07-19' '2016-07-20'\n",
            " '2016-07-21' '2016-07-22' '2016-07-23' '2016-07-24' '2016-07-25'\n",
            " '2016-07-26' '2016-07-27' '2016-07-28' '2016-07-29' '2016-07-30'\n",
            " '2016-07-31']\n"
          ]
        }
      ]
    },
    {
      "cell_type": "markdown",
      "source": [
        "extract the integer part of a random array using 5 different methods :"
      ],
      "metadata": {
        "id": "afVGLz9akfW8"
      }
    },
    {
      "cell_type": "code",
      "source": [
        "z = np.random.uniform(0,10,10)\n",
        "print(z)\n",
        "print(z - z%1)\n",
        "print(np.floor(z))\n",
        "print(np.ceil(z) - 1)\n",
        "print(z.astype(int))"
      ],
      "metadata": {
        "colab": {
          "base_uri": "https://localhost:8080/"
        },
        "id": "M69cSKkZkobb",
        "outputId": "df9f1a49-40e7-4148-9a91-4480565d1f5d"
      },
      "execution_count": null,
      "outputs": [
        {
          "output_type": "stream",
          "name": "stdout",
          "text": [
            "[9.23036799 8.98579661 7.13431097 1.19754567 3.3365376  2.52639926\n",
            " 6.71154079 6.47356692 0.08042839 7.1912224 ]\n",
            "[9. 8. 7. 1. 3. 2. 6. 6. 0. 7.]\n",
            "[9. 8. 7. 1. 3. 2. 6. 6. 0. 7.]\n",
            "[9. 8. 7. 1. 3. 2. 6. 6. 0. 7.]\n",
            "[9 8 7 1 3 2 6 6 0 7]\n"
          ]
        }
      ]
    },
    {
      "cell_type": "markdown",
      "source": [
        "create a 5x5 matrix with row values ranging from 0 to 4:"
      ],
      "metadata": {
        "id": "TFv5e-0mkvfj"
      }
    },
    {
      "cell_type": "code",
      "source": [
        "z = np.zeros((5,5))\n",
        "z += np.arange(5)\n",
        "print(z)"
      ],
      "metadata": {
        "colab": {
          "base_uri": "https://localhost:8080/"
        },
        "id": "Lh9RVFqok0Js",
        "outputId": "141fc40f-7bf7-4fe5-83bb-7a96b3c2f5c8"
      },
      "execution_count": null,
      "outputs": [
        {
          "output_type": "stream",
          "name": "stdout",
          "text": [
            "[[0. 1. 2. 3. 4.]\n",
            " [0. 1. 2. 3. 4.]\n",
            " [0. 1. 2. 3. 4.]\n",
            " [0. 1. 2. 3. 4.]\n",
            " [0. 1. 2. 3. 4.]]\n"
          ]
        }
      ]
    },
    {
      "cell_type": "markdown",
      "source": [
        "create a random vector of size 10 and sort it :"
      ],
      "metadata": {
        "id": "KXVAMitgk7mT"
      }
    },
    {
      "cell_type": "code",
      "source": [
        "z = np.random.random(10)\n",
        "z.sort()\n",
        "print(z)"
      ],
      "metadata": {
        "colab": {
          "base_uri": "https://localhost:8080/"
        },
        "id": "wIllrwN4k_ST",
        "outputId": "fd8bd59a-5cac-431d-a28e-f7ba1e150e9d"
      },
      "execution_count": null,
      "outputs": [
        {
          "output_type": "stream",
          "name": "stdout",
          "text": [
            "[0.12495762 0.16899343 0.21808144 0.39442961 0.58566945 0.76008664\n",
            " 0.77434841 0.77965993 0.86461545 0.92032071]\n"
          ]
        }
      ]
    },
    {
      "cell_type": "markdown",
      "source": [
        "consider two random array  A and B, check if they are equal using np.allcose(A,B) methods. If they are equal, it will return True otherwise False :"
      ],
      "metadata": {
        "id": "utnnb3rhlGLr"
      }
    },
    {
      "cell_type": "code",
      "source": [
        "A = np.random.randint(0,2,5)\n",
        "B = np.random.randint(0,2,5)\n",
        "equal = np.allclose(A, B)\n",
        "print(equal)"
      ],
      "metadata": {
        "colab": {
          "base_uri": "https://localhost:8080/"
        },
        "id": "DYt4FHLjlp5E",
        "outputId": "955b1976-c46c-4f65-ba5c-fec45ec987cf"
      },
      "execution_count": null,
      "outputs": [
        {
          "output_type": "stream",
          "name": "stdout",
          "text": [
            "False\n"
          ]
        }
      ]
    },
    {
      "cell_type": "markdown",
      "source": [
        "to make an array immutable, we have to set the flag writable to False. After that, the array becomes red-only."
      ],
      "metadata": {
        "id": "zsvET6p2l_yi"
      }
    },
    {
      "cell_type": "code",
      "source": [
        "z = np.zeros(10)\n",
        "z.flags.writeable = False\n",
        "z[0] = 1"
      ],
      "metadata": {
        "colab": {
          "base_uri": "https://localhost:8080/",
          "height": 176
        },
        "id": "Nxg66OBhmI-S",
        "outputId": "5335a0f7-143d-4a64-fe19-57f53ebf850f"
      },
      "execution_count": null,
      "outputs": [
        {
          "output_type": "error",
          "ename": "ValueError",
          "evalue": "assignment destination is read-only",
          "traceback": [
            "\u001b[0;31m---------------------------------------------------------------------------\u001b[0m",
            "\u001b[0;31mValueError\u001b[0m                                Traceback (most recent call last)",
            "\u001b[0;32m/tmp/ipython-input-2157155760.py\u001b[0m in \u001b[0;36m<cell line: 0>\u001b[0;34m()\u001b[0m\n\u001b[1;32m      1\u001b[0m \u001b[0mz\u001b[0m \u001b[0;34m=\u001b[0m \u001b[0mnp\u001b[0m\u001b[0;34m.\u001b[0m\u001b[0mzeros\u001b[0m\u001b[0;34m(\u001b[0m\u001b[0;36m10\u001b[0m\u001b[0;34m)\u001b[0m\u001b[0;34m\u001b[0m\u001b[0;34m\u001b[0m\u001b[0m\n\u001b[1;32m      2\u001b[0m \u001b[0mz\u001b[0m\u001b[0;34m.\u001b[0m\u001b[0mflags\u001b[0m\u001b[0;34m.\u001b[0m\u001b[0mwriteable\u001b[0m \u001b[0;34m=\u001b[0m \u001b[0;32mFalse\u001b[0m\u001b[0;34m\u001b[0m\u001b[0;34m\u001b[0m\u001b[0m\n\u001b[0;32m----> 3\u001b[0;31m \u001b[0mz\u001b[0m\u001b[0;34m[\u001b[0m\u001b[0;36m0\u001b[0m\u001b[0;34m]\u001b[0m \u001b[0;34m=\u001b[0m \u001b[0;36m1\u001b[0m\u001b[0;34m\u001b[0m\u001b[0;34m\u001b[0m\u001b[0m\n\u001b[0m",
            "\u001b[0;31mValueError\u001b[0m: assignment destination is read-only"
          ]
        }
      ]
    },
    {
      "cell_type": "markdown",
      "source": [
        "You can see, how it is giving a ValueError : assignment destination is read-only."
      ],
      "metadata": {
        "id": "kA2sBnV8mS37"
      }
    },
    {
      "cell_type": "markdown",
      "source": [
        "print the minimum and maximum representable value for each numpy scalar type :"
      ],
      "metadata": {
        "id": "8hww8VlLmbWS"
      }
    },
    {
      "cell_type": "code",
      "source": [
        "for dtype in [np.int8, np.int32, np.int64]:\n",
        "    print(np.iinfo(dtype).min)\n",
        "    print(np.iinfo(dtype).max)"
      ],
      "metadata": {
        "colab": {
          "base_uri": "https://localhost:8080/"
        },
        "id": "QJJe325fmm3a",
        "outputId": "88da8b03-a702-4898-ced8-4dc8fdc1871f"
      },
      "execution_count": null,
      "outputs": [
        {
          "output_type": "stream",
          "name": "stdout",
          "text": [
            "-128\n",
            "127\n",
            "-2147483648\n",
            "2147483647\n",
            "-9223372036854775808\n",
            "9223372036854775807\n"
          ]
        }
      ]
    },
    {
      "cell_type": "markdown",
      "source": [
        "It  iterates through the integer data types np.int8, np.int32, and np.int64. For each data type, it prints the minimum and maximum representable values using np.iinfo(dtype).min and np.iinfo(dtype).max."
      ],
      "metadata": {
        "id": "yFfZfPiknO-p"
      }
    },
    {
      "cell_type": "code",
      "source": [
        "for dtype in [np.float32, np.float64]:\n",
        "    print(np.finfo(dtype).min)\n",
        "    print(np.finfo(dtype).max)\n",
        "    print(np.finfo(dtype).eps)"
      ],
      "metadata": {
        "colab": {
          "base_uri": "https://localhost:8080/"
        },
        "id": "xyJT3bo_mqVd",
        "outputId": "63e2d691-9cf1-40dd-8e8b-df290dbabfab"
      },
      "execution_count": null,
      "outputs": [
        {
          "output_type": "stream",
          "name": "stdout",
          "text": [
            "-3.4028235e+38\n",
            "3.4028235e+38\n",
            "1.1920929e-07\n",
            "-1.7976931348623157e+308\n",
            "1.7976931348623157e+308\n",
            "2.220446049250313e-16\n"
          ]
        }
      ]
    },
    {
      "cell_type": "markdown",
      "source": [
        "It  iterates through the floating-point data types np.float32 and np.float64. For each data type, it prints the minimum and maximum representable values using np.finfo(dtype).min and np.finfo(dtype).max. It also prints the machine epsilon (np.finfo(dtype).eps), which is the difference between 1.0 and the next smallest representable floating-point number greater than 1.0."
      ],
      "metadata": {
        "id": "OrWC48vHnQjh"
      }
    },
    {
      "cell_type": "markdown",
      "source": [
        "to find the closest value (to a given scalar) in a vector we use this method :"
      ],
      "metadata": {
        "id": "qS7fCOr5nZsQ"
      }
    },
    {
      "cell_type": "code",
      "source": [
        "z = np.arange(100)\n",
        "v = np.random.uniform(0, 100)\n",
        "print(v)\n",
        "index = (np.abs(z-v)).argmin()\n",
        "print(z[index])"
      ],
      "metadata": {
        "colab": {
          "base_uri": "https://localhost:8080/"
        },
        "id": "azzHuPInnhHA",
        "outputId": "5ead154c-eda1-4b71-ce3d-32a0304f0061"
      },
      "execution_count": null,
      "outputs": [
        {
          "output_type": "stream",
          "name": "stdout",
          "text": [
            "67.06900535025626\n",
            "67\n"
          ]
        }
      ]
    },
    {
      "cell_type": "markdown",
      "source": [
        "np.abs(z - v): This calculates the absolute difference between each element in the array z and the scalar value v. This gives you an array of the distances between each element and v.\n",
        "\n",
        ".argmin(): This method is called on the array of absolute differences. It returns the index of the minimum value in that array. Since we calculated the absolute differences, the minimum value corresponds to the element in the original array z that was closest to v."
      ],
      "metadata": {
        "id": "2wQ-KYZ_oS0Q"
      }
    },
    {
      "cell_type": "markdown",
      "source": [
        "consider a random vector with shape (100,2) represnting coordinates, find point by point distances."
      ],
      "metadata": {
        "id": "jbX3ohoXoV1S"
      }
    },
    {
      "cell_type": "code",
      "source": [
        "z = np.random.random((10,2))\n",
        "x, y = np.atleast_2d(z[:,0], z[:,1])\n",
        "print(x)\n",
        "print(y)\n",
        "d = np.sqrt((x-x.T)**2 + (y-y.T)**2)"
      ],
      "metadata": {
        "colab": {
          "base_uri": "https://localhost:8080/"
        },
        "id": "DfcEZ0TUodbw",
        "outputId": "ff5d867f-846d-43ba-d40f-775806f7009f"
      },
      "execution_count": null,
      "outputs": [
        {
          "output_type": "stream",
          "name": "stdout",
          "text": [
            "[[0.95021611 0.3726957  0.22465285 0.84644234 0.96237409 0.1988271\n",
            "  0.18941557 0.53384501 0.04152352 0.80551502]]\n",
            "[[0.72622332 0.36554918 0.33106159 0.12203579 0.08442818 0.43782835\n",
            "  0.01425823 0.32792773 0.98954147 0.25516632]]\n"
          ]
        }
      ]
    },
    {
      "cell_type": "markdown",
      "source": [
        "It calculates point-by-point distances. It uses np.atleast_2d to ensure the coordinate arrays are at least 2D, and then applies broadcasting to calculate the squared differences and sum them before taking the square root for the distance."
      ],
      "metadata": {
        "id": "Qnk-DLa4o-dv"
      }
    },
    {
      "cell_type": "markdown",
      "source": [
        "It is much faster using Scipy."
      ],
      "metadata": {
        "id": "4cpLkENypCmH"
      }
    },
    {
      "cell_type": "code",
      "source": [
        "import scipy\n",
        "import scipy.spatial\n",
        "\n",
        "z = np.random.random((10,2))\n",
        "d = scipy.spatial.distance.cdist(z,z)\n",
        "print(d)"
      ],
      "metadata": {
        "colab": {
          "base_uri": "https://localhost:8080/"
        },
        "id": "zQPoxCB3pGhP",
        "outputId": "8c779c35-17b4-412b-8a6d-3fe3524e9c48"
      },
      "execution_count": null,
      "outputs": [
        {
          "output_type": "stream",
          "name": "stdout",
          "text": [
            "[[0.         0.57562218 0.356294   0.46618082 0.05319467 0.37176387\n",
            "  0.12679898 0.29206229 0.36258188 0.49478284]\n",
            " [0.57562218 0.         0.30885232 0.71721561 0.6269264  0.22681698\n",
            "  0.55177358 0.32978384 0.65818282 0.45725031]\n",
            " [0.356294   0.30885232 0.         0.69284273 0.39640829 0.09901348\n",
            "  0.28150357 0.06822395 0.34938779 0.54443311]\n",
            " [0.46618082 0.71721561 0.69284273 0.         0.48666768 0.63862133\n",
            "  0.58646068 0.62922439 0.82690852 0.30185786]\n",
            " [0.05319467 0.6269264  0.39640829 0.48666768 0.         0.41934192\n",
            "  0.13845364 0.33471796 0.3554089  0.53976425]\n",
            " [0.37176387 0.22681698 0.09901348 0.63862133 0.41934192 0.\n",
            "  0.3285164  0.10298014 0.43991893 0.45993585]\n",
            " [0.12679898 0.55177358 0.28150357 0.58646068 0.13845364 0.3285164\n",
            "  0.         0.23014682 0.24076654 0.57339918]\n",
            " [0.29206229 0.32978384 0.06822395 0.62922439 0.33471796 0.10298014\n",
            "  0.23014682 0.         0.34366569 0.49838643]\n",
            " [0.36258188 0.65818282 0.34938779 0.82690852 0.3554089  0.43991893\n",
            "  0.24076654 0.34366569 0.         0.79595873]\n",
            " [0.49478284 0.45725031 0.54443311 0.30185786 0.53976425 0.45993585\n",
            "  0.57339918 0.49838643 0.79595873 0.        ]]\n"
          ]
        }
      ]
    },
    {
      "cell_type": "markdown",
      "source": [
        "Using scipy.spatial.distance.cdist is generally faster for calculating pairwise distances because it's implemented in optimized C code, leveraging underlying libraries that are highly efficient for numerical operations.\n",
        "\n",
        "\n",
        "Other SciPy spatial distance functions that can perform better than manual NumPy calculations for specific tasks include:\n",
        "\n",
        "scipy.spatial.distance.pdist: Calculates pairwise distances between observations in a matrix (useful when you need all pairwise distances).\n",
        "\n",
        "scipy.spatial.distance.euclidean: Calculates the Euclidean distance between two points.\n",
        "\n",
        "scipy.spatial.distance.cosine: Calculates the cosine distance between two vectors."
      ],
      "metadata": {
        "id": "aH5kt36Ipph3"
      }
    },
    {
      "cell_type": "markdown",
      "source": [
        "how to convert a float (32 bits) array into an integer (32 bits) in place :"
      ],
      "metadata": {
        "id": "DgulAx7qpqJA"
      }
    },
    {
      "cell_type": "code",
      "source": [
        "z = np.arange(10, dtype=np.float32)\n",
        "print(z)\n",
        "z = z.astype(np.int32, copy=False)\n",
        "print(z)"
      ],
      "metadata": {
        "colab": {
          "base_uri": "https://localhost:8080/"
        },
        "id": "zCLIDdKJqCUX",
        "outputId": "800f3cbd-960b-40c7-c5c6-e3ae29b01aa4"
      },
      "execution_count": null,
      "outputs": [
        {
          "output_type": "stream",
          "name": "stdout",
          "text": [
            "[0. 1. 2. 3. 4. 5. 6. 7. 8. 9.]\n",
            "[0 1 2 3 4 5 6 7 8 9]\n"
          ]
        }
      ]
    },
    {
      "cell_type": "markdown",
      "source": [
        "This is how we read files using stringIO:"
      ],
      "metadata": {
        "id": "9_8UdePHqKkm"
      }
    },
    {
      "cell_type": "code",
      "source": [
        "from io import StringIO\n",
        "\n",
        "s = StringIO(\"\"\"1, 2, 3, 4, 5\\n\n",
        "                6,  ,  , 7, 8\\n\n",
        "                 ,  , 9,10,11\\n\"\"\")\n",
        "z = np.genfromtxt(s, delimiter=\",\", dtype=int)\n",
        "print(z)"
      ],
      "metadata": {
        "colab": {
          "base_uri": "https://localhost:8080/"
        },
        "id": "ienSXFSlqQYO",
        "outputId": "9c9f9a54-0341-464c-dba5-0b0d34341562"
      },
      "execution_count": null,
      "outputs": [
        {
          "output_type": "stream",
          "name": "stdout",
          "text": [
            "[[ 1  2  3  4  5]\n",
            " [ 6 -1 -1  7  8]\n",
            " [-1 -1  9 10 11]]\n"
          ]
        }
      ]
    },
    {
      "cell_type": "markdown",
      "source": [
        "It reads data from a string that's formatted like a CSV. It uses np.genfromtxt to parse the string, treating commas as delimiters. The dtype=int argument specifies that the data should be interpreted as integers, and np.genfromtxt automatically handles the missing values by replacing them with a default value (in this case, -1 for integers)."
      ],
      "metadata": {
        "id": "kqpRwtU4stSW"
      }
    },
    {
      "cell_type": "markdown",
      "source": [
        "Subtract the mean of each row of a matrix :"
      ],
      "metadata": {
        "id": "1GpPCOp0suXp"
      }
    },
    {
      "cell_type": "code",
      "source": [
        "x = np.random.rand(5, 10)\n",
        "y = x - x.mean(axis=1, keepdims=True)\n",
        "print(y)"
      ],
      "metadata": {
        "colab": {
          "base_uri": "https://localhost:8080/"
        },
        "id": "DquW2IiUszbM",
        "outputId": "e1784317-a5a8-40a5-acc6-598c833ef8ae"
      },
      "execution_count": null,
      "outputs": [
        {
          "output_type": "stream",
          "name": "stdout",
          "text": [
            "[[-0.38448349  0.30133158 -0.30835093 -0.08655142  0.20944278  0.27491942\n",
            "  -0.170339    0.33114523  0.31685486 -0.48396903]\n",
            " [-0.02143797 -0.18126024  0.36311639 -0.50030657  0.19464785  0.199037\n",
            "   0.11593281  0.43350443 -0.32617029 -0.2770634 ]\n",
            " [-0.32532134  0.53970708  0.26243672 -0.381206    0.08354037 -0.39181158\n",
            "   0.54082999  0.20609599 -0.38447816 -0.14979308]\n",
            " [ 0.10170668 -0.33057087  0.32932728 -0.09461224  0.2667343   0.11971232\n",
            "   0.26633154 -0.24973224  0.15448544 -0.56338219]\n",
            " [ 0.21003632  0.42584762  0.05956172 -0.09812981 -0.11002076 -0.12714081\n",
            "  -0.26541058 -0.36889085 -0.15357313  0.42772027]]\n"
          ]
        }
      ]
    },
    {
      "cell_type": "markdown",
      "source": [
        "how to sort an array by the nth column :"
      ],
      "metadata": {
        "id": "uJTDtJlQt4FM"
      }
    },
    {
      "cell_type": "code",
      "source": [
        "z = np.random.randint(0, 10, (3,3))\n",
        "print(z)\n",
        "print(z[z[:,1].argsort()])"
      ],
      "metadata": {
        "colab": {
          "base_uri": "https://localhost:8080/"
        },
        "id": "pgjzCKozt75E",
        "outputId": "1b9f83d2-9cb8-4784-fbe1-51cc35596ab2"
      },
      "execution_count": null,
      "outputs": [
        {
          "output_type": "stream",
          "name": "stdout",
          "text": [
            "[[1 9 0]\n",
            " [9 7 9]\n",
            " [5 8 2]]\n",
            "[[9 7 9]\n",
            " [5 8 2]\n",
            " [1 9 0]]\n"
          ]
        }
      ]
    },
    {
      "cell_type": "markdown",
      "source": [
        "to tell if a given 2d array has null columns or not, we can use this method :"
      ],
      "metadata": {
        "id": "qzpd0eyXuQq8"
      }
    },
    {
      "cell_type": "code",
      "source": [
        "z = np.random.randint(0,3,(3,10))\n",
        "print(z)\n",
        "print((~z.any(axis=0)).any())"
      ],
      "metadata": {
        "colab": {
          "base_uri": "https://localhost:8080/"
        },
        "id": "cN0F8rK5uXEM",
        "outputId": "73351617-56b1-46d8-d110-f67e019b07d0"
      },
      "execution_count": null,
      "outputs": [
        {
          "output_type": "stream",
          "name": "stdout",
          "text": [
            "[[2 2 0 2 1 2 0 0 1 2]\n",
            " [1 1 2 0 0 0 1 0 1 0]\n",
            " [0 1 0 0 1 0 2 1 2 0]]\n",
            "False\n"
          ]
        }
      ]
    },
    {
      "cell_type": "markdown",
      "source": [
        "z.any(axis=0): This checks if any element is non-zero along each column (axis 0). It returns a boolean array where True means the column has at least one non-zero element, and False means the column contains only zeros.\n",
        "\n",
        "\n",
        "~: This is the bitwise NOT operator, which inverts the boolean array. Now, True means the column contains only zeros, and False means it has at least one non-zero element."
      ],
      "metadata": {
        "id": "zU_RJEkVux1j"
      }
    },
    {
      "cell_type": "markdown",
      "source": [
        "find the nearest value from a given value in an array :"
      ],
      "metadata": {
        "id": "JJGcMMAFuzls"
      }
    },
    {
      "cell_type": "code",
      "source": [
        "z = np.random.uniform(0,1,10)\n",
        "print(z)\n",
        "y = 0.5\n",
        "m = z.flat[np.abs(z-y).argmin()]\n",
        "print(m)"
      ],
      "metadata": {
        "colab": {
          "base_uri": "https://localhost:8080/"
        },
        "id": "FjRRY7Lpu5OM",
        "outputId": "0c957cf6-9f42-431d-8f53-ec04e9750924"
      },
      "execution_count": null,
      "outputs": [
        {
          "output_type": "stream",
          "name": "stdout",
          "text": [
            "[0.84361923 0.71520507 0.10661438 0.13995118 0.96774483 0.00386829\n",
            " 0.27271326 0.9508317  0.8370423  0.75182458]\n",
            "0.715205074627952\n"
          ]
        }
      ]
    },
    {
      "cell_type": "markdown",
      "source": [
        ".argmin(): Finds the index of the smallest absolute difference.\n",
        "\n",
        "\n",
        "z.flat[...]: Uses the index found in the previous step to access the element in the original array z that corresponds to the smallest difference (i.e., the closest value to y)."
      ],
      "metadata": {
        "id": "r1ZLkA37vUDz"
      }
    },
    {
      "cell_type": "markdown",
      "source": [
        "How to accumulate elements of a vector X in an array F based on an index list I :"
      ],
      "metadata": {
        "id": "dmi7esp2vVWS"
      }
    },
    {
      "cell_type": "code",
      "source": [
        "X = [7,8,9,10,11,12]\n",
        "I = [13, 14, 15, 16, 17, 18]\n",
        "F = np.bincount(I,X)\n",
        "print(F)"
      ],
      "metadata": {
        "colab": {
          "base_uri": "https://localhost:8080/"
        },
        "id": "Vvp--xCJwDTK",
        "outputId": "9524f84a-e4e9-49f4-eea7-bc415ae40c90"
      },
      "execution_count": null,
      "outputs": [
        {
          "output_type": "stream",
          "name": "stdout",
          "text": [
            "[ 0.  0.  0.  0.  0.  0.  0.  0.  0.  0.  0.  0.  0.  7.  8.  9. 10. 11.\n",
            " 12.]\n"
          ]
        }
      ]
    },
    {
      "cell_type": "markdown",
      "source": [
        "This code uses np.bincount(I, X) to sum the values in X at the indices specified by I. It essentially accumulates the elements of X into bins determined by the values in I."
      ],
      "metadata": {
        "id": "A17jopmPwh60"
      }
    },
    {
      "cell_type": "markdown",
      "source": [
        "how to get the diagonal of a dot product :"
      ],
      "metadata": {
        "id": "X_F3z-ELw4T7"
      }
    },
    {
      "cell_type": "code",
      "source": [
        "A = np.random.uniform(0,1,(5,5))\n",
        "B = np.random.uniform(0,1,(5,5))\n"
      ],
      "metadata": {
        "id": "7Q6SX9zow9HR"
      },
      "execution_count": null,
      "outputs": []
    },
    {
      "cell_type": "code",
      "source": [
        "np.diag(np.dot(A,B))"
      ],
      "metadata": {
        "colab": {
          "base_uri": "https://localhost:8080/"
        },
        "id": "scAkgwP3xJ3h",
        "outputId": "dce6cf94-f016-43cf-a4ba-94a94647dd8a"
      },
      "execution_count": null,
      "outputs": [
        {
          "output_type": "execute_result",
          "data": {
            "text/plain": [
              "array([0.71813038, 0.78658176, 0.54496114, 1.49550446, 1.58654202])"
            ]
          },
          "metadata": {},
          "execution_count": 71
        }
      ]
    },
    {
      "cell_type": "markdown",
      "source": [
        "This is a slower version."
      ],
      "metadata": {
        "id": "Kdqzo9UbxeVh"
      }
    },
    {
      "cell_type": "code",
      "source": [
        "np.sum(A * B.T, axis=1)"
      ],
      "metadata": {
        "colab": {
          "base_uri": "https://localhost:8080/"
        },
        "id": "73F5TPZWxNAx",
        "outputId": "e27a4867-0de6-4fb5-dcee-eb3555e694e0"
      },
      "execution_count": null,
      "outputs": [
        {
          "output_type": "execute_result",
          "data": {
            "text/plain": [
              "array([0.71813038, 0.78658176, 0.54496114, 1.49550446, 1.58654202])"
            ]
          },
          "metadata": {},
          "execution_count": 72
        }
      ]
    },
    {
      "cell_type": "markdown",
      "source": [
        "This is a Fast version."
      ],
      "metadata": {
        "id": "K0osS0Kkxf-4"
      }
    },
    {
      "cell_type": "code",
      "source": [
        "np.einsum(\"ij,ji->i\", A,B)"
      ],
      "metadata": {
        "colab": {
          "base_uri": "https://localhost:8080/"
        },
        "id": "UUeSJytxxSup",
        "outputId": "08f53b24-f88c-421f-c59c-4b634aab7b1c"
      },
      "execution_count": null,
      "outputs": [
        {
          "output_type": "execute_result",
          "data": {
            "text/plain": [
              "array([0.71813038, 0.78658176, 0.54496114, 1.49550446, 1.58654202])"
            ]
          },
          "metadata": {},
          "execution_count": 73
        }
      ]
    },
    {
      "cell_type": "markdown",
      "source": [
        "This is a faster version."
      ],
      "metadata": {
        "id": "UmnRoVfPxi1p"
      }
    },
    {
      "cell_type": "markdown",
      "metadata": {
        "id": "667e234c"
      },
      "source": [
        "\n",
        "*  (`np.diag(np.dot(A,B))`): This method first computes the complete matrix multiplication of A and B using `np.dot()`. After obtaining the full resulting matrix, it then extracts the diagonal elements using `np.diag()`. This is generally the slowest because computing the full dot product involves many unnecessary calculations for the off-diagonal elements when you only need the diagonal.\n",
        "\n",
        "*   (`np.sum(A * B.T, axis=1)`): This approach leverages the fact that the diagonal elements of A dotted with B are the sum of the element-wise products of the rows of A and the corresponding columns of B (which are the rows of B transposed, `B.T`). It performs an element-wise multiplication (`A * B.T`) and then sums across the rows (`axis=1`). This avoids calculating the full dot product matrix and is more efficient than the first method.\n",
        "\n",
        "*  (`np.einsum(\"ij,ji->i\", A,B)`): This method uses `np.einsum`, which is designed for efficient summation of products over specified indices. The string `\"ij,ji->i\"` is an Einstein summation convention that precisely describes the desired operation: multiply elements `A[i,j]` and `B[j,i]` and sum over the `j` index for each `i`. This directly computes only the required diagonal elements, making it the most optimized and fastest method among the three for this specific task."
      ]
    },
    {
      "cell_type": "markdown",
      "source": [
        "Consider the vector [1,2,3,4,5] how to build a new vectory with 3 consecutive zeros interleaved between each value :"
      ],
      "metadata": {
        "id": "u1Wz1UxU3HcW"
      }
    },
    {
      "cell_type": "code",
      "source": [
        "z = np.array([1,2,3,4,5])\n",
        "nz = 3\n",
        "z0 = np.zeros(len(z) + (len(z)-1)*(nz))\n",
        "z0[::nz+1] = z\n",
        "print(z0)"
      ],
      "metadata": {
        "colab": {
          "base_uri": "https://localhost:8080/"
        },
        "id": "ga5adXhX3aol",
        "outputId": "a4314b74-b510-4f37-d41d-e47fb7cd51c3"
      },
      "execution_count": null,
      "outputs": [
        {
          "output_type": "stream",
          "name": "stdout",
          "text": [
            "[1. 0. 0. 0. 2. 0. 0. 0. 3. 0. 0. 0. 4. 0. 0. 0. 5.]\n"
          ]
        }
      ]
    },
    {
      "cell_type": "markdown",
      "source": [
        "*   `z = np.array([1,2,3,4,5])`: Creates a NumPy array `z`.\n",
        "*   `nz = 3`: Sets the number of zeros to interleave.\n",
        "*   `z0 = np.zeros(len(z) + (len(z)-1)*(nz))`: Creates a new zero-filled array `z0` of the correct size.\n",
        "*   `z0[::nz+1] = z`: Places the elements of `z` into `z0` with `nz` zeros in between.\n",
        "*   `print(z0)`: Prints the resulting array.\n"
      ],
      "metadata": {
        "id": "muXSWSGW4TZt"
      }
    },
    {
      "cell_type": "markdown",
      "source": [
        "to swap two rows of an array, just interchange like this :"
      ],
      "metadata": {
        "id": "HjJiv1vn4bg0"
      }
    },
    {
      "cell_type": "code",
      "source": [
        "A = np.arange(25).reshape(5,5)\n",
        "A[[0,1]] = A[[1,0]]\n",
        "A[[3,4]] = A[[4,3]]\n",
        "print(A)"
      ],
      "metadata": {
        "colab": {
          "base_uri": "https://localhost:8080/"
        },
        "id": "oMjmH3AH4lYt",
        "outputId": "727a529c-d51e-4952-a69b-57b0ba79e4f6"
      },
      "execution_count": null,
      "outputs": [
        {
          "output_type": "stream",
          "name": "stdout",
          "text": [
            "[[ 5  6  7  8  9]\n",
            " [ 0  1  2  3  4]\n",
            " [10 11 12 13 14]\n",
            " [20 21 22 23 24]\n",
            " [15 16 17 18 19]]\n"
          ]
        }
      ]
    },
    {
      "cell_type": "markdown",
      "source": [
        "how to compute averages using a sliding window over an array ?"
      ],
      "metadata": {
        "id": "hUSfykpn43t1"
      }
    },
    {
      "cell_type": "code",
      "source": [
        "def moving_average(a, n=3):\n",
        "  ret = np.cumsum(a, dtype=float)\n",
        "  ret[n:] = ret[n:] - ret[:-n]\n",
        "  return ret[n-1:] / n\n",
        "z = np.arange(20)\n",
        "print(moving_average(z, n=3))"
      ],
      "metadata": {
        "colab": {
          "base_uri": "https://localhost:8080/"
        },
        "id": "4FOTKIBx8EwK",
        "outputId": "a203d969-3009-402b-cc4e-3ec57c9f69e5"
      },
      "execution_count": null,
      "outputs": [
        {
          "output_type": "stream",
          "name": "stdout",
          "text": [
            "[ 1.  2.  3.  4.  5.  6.  7.  8.  9. 10. 11. 12. 13. 14. 15. 16. 17. 18.]\n"
          ]
        }
      ]
    },
    {
      "cell_type": "markdown",
      "source": [
        "This function efficiently calculates the moving average using cumulative sums. It computes the cumulative sum of the array, then subtracts the cumulative sum shifted by n to get the sum of each window, and finally divides by n to get the average."
      ],
      "metadata": {
        "id": "D153ej4C8eDr"
      }
    },
    {
      "cell_type": "markdown",
      "source": [
        "consider 2 sets of points P0, P1 describing lines (2d) and a point p, how to compute distance from p to each line i (P0[i],P1[i]) :"
      ],
      "metadata": {
        "id": "-ov3lrN88ewj"
      }
    },
    {
      "cell_type": "code",
      "source": [
        "def distance(P0, P1, p):\n",
        "  T = P1 - P0\n",
        "  L = (T**2).sum(axis=1)\n",
        "  U = -((P0[:,0]-p[...,0])*T[:,0] + (P0[:,1]-p[...,1])*T[:,1]) / L\n",
        "  U = U.reshape(len(U), 1)\n",
        "  D = P0 + U*T - p\n",
        "  return np.sqrt((D**2).sum(axis=1))\n",
        "\n",
        "P0 = np.random.uniform(-10, 10, (10,2))\n",
        "P1 = np.random.uniform(-10, 10, (10,2))\n",
        "p = np.random.uniform(-10, 10, (1,2))\n",
        "print(distance(P0, P1, p))"
      ],
      "metadata": {
        "colab": {
          "base_uri": "https://localhost:8080/"
        },
        "id": "4_KsOnU783_1",
        "outputId": "86355e9c-ba7e-4ef9-a1ab-3a165cb02044"
      },
      "execution_count": null,
      "outputs": [
        {
          "output_type": "stream",
          "name": "stdout",
          "text": [
            "[ 4.65744949  0.70552213  9.91197616  1.99936415 10.55621751  5.4695493\n",
            "  2.13834053  9.25870784  4.98500605  7.77297165]\n"
          ]
        }
      ]
    },
    {
      "cell_type": "markdown",
      "metadata": {
        "id": "7a12f275"
      },
      "source": [
        "1.  **`T = P1 - P0`**: Calculates the direction vectors for each line.\n",
        "2.  `L = (T**2).sum(axis=1)`: Calculates the squared length of each direction vector.\n",
        "3.  `U = -((P0[:,0]-p[...,0])*T[:,0] + (P0[:,1]-p[...,1])*T[:,1]) / L`: Calculates the projection of the vector from `P0` to `p` onto the direction vector `T`, normalized by the squared length `L`. This gives a scalar value `U` for each line.\n",
        "4.  `U = U.reshape(len(U), 1)`: Reshapes `U` to be a column vector to allow for broadcasting in the next step.\n",
        "5.  `D = P0 + U*T - p`: Calculates the vector `D` from point `p` to the closest point on each line.\n",
        "6.  `return np.sqrt((D**2).sum(axis=1))`: Calculates the magnitude of vector `D` for each line (the distance) and returns the array of distances.\n",
        "7.  `P0 = np.random.uniform(-10, 10, (10,2))`: Creates an array `P0` of 10 random 2D points.\n",
        "8.  `P1 = np.random.uniform(-10, 10, (10,2))`: Creates an array `P1` of 10 random 2D points. `P0` and `P1` define 10 lines.\n",
        "9.  `p = np.random.uniform(-10, 10, (1,2))`: Creates a single random 2D point `p`.\n",
        "10. `print(distance(P0, P1, p))`: Calls the `distance` function with the generated points and prints the calculated distances from point `p` to each of the 10 lines."
      ]
    },
    {
      "cell_type": "markdown",
      "source": [
        "Now we have changed p from a set of points P. So we have to calculate distance from each point j (P[j]) to each line i (P0[i],P1[i]) :"
      ],
      "metadata": {
        "id": "vq87_Hur9rpC"
      }
    },
    {
      "cell_type": "code",
      "source": [
        "print(np.array([distance(P0, P1, p_i) for p_i in p]))"
      ],
      "metadata": {
        "colab": {
          "base_uri": "https://localhost:8080/"
        },
        "id": "tA_Op0YA-djS",
        "outputId": "3bd8f2c7-368c-431a-8bc1-7bdc9d6e38af"
      },
      "execution_count": null,
      "outputs": [
        {
          "output_type": "stream",
          "name": "stdout",
          "text": [
            "[[ 4.65744949  0.70552213  9.91197616  1.99936415 10.55621751  5.4695493\n",
            "   2.13834053  9.25870784  4.98500605  7.77297165]]\n"
          ]
        }
      ]
    },
    {
      "cell_type": "markdown",
      "source": [
        "We use bincount() and argmax() function to find the most frequent value in an array :"
      ],
      "metadata": {
        "id": "IqJYGplf-yEE"
      }
    },
    {
      "cell_type": "code",
      "source": [
        "z = np.random.randint(1,10,50)\n",
        "print(np.bincount(z).argmax())"
      ],
      "metadata": {
        "colab": {
          "base_uri": "https://localhost:8080/"
        },
        "id": "bgKHcMBk-5tD",
        "outputId": "3903b0d5-db58-458b-cbd4-0aff55496688"
      },
      "execution_count": null,
      "outputs": [
        {
          "output_type": "stream",
          "name": "stdout",
          "text": [
            "6\n"
          ]
        }
      ]
    },
    {
      "cell_type": "markdown",
      "source": [
        "extract all the contiguous 3x3 blocks from a random 10x10 matrix :"
      ],
      "metadata": {
        "id": "xNAeLWOY_CVi"
      }
    },
    {
      "cell_type": "code",
      "source": [
        "from numpy.lib import stride_tricks\n",
        "\n",
        "z = np.random.randint(0,5,(10,10))\n",
        "n = 3\n",
        "i = 1 + (z.shape[0]-3)\n",
        "j = 1 + (z.shape[1]-3)\n",
        "c = stride_tricks.as_strided(z, shape=(i,j,n,n), strides=z.strides + z.strides)\n",
        "print(c)"
      ],
      "metadata": {
        "colab": {
          "base_uri": "https://localhost:8080/"
        },
        "id": "TX8H3EgL_MSB",
        "outputId": "b29cc843-a995-40c0-c968-7bc077fa2cfd"
      },
      "execution_count": null,
      "outputs": [
        {
          "output_type": "stream",
          "name": "stdout",
          "text": [
            "[[[[2 4 4]\n",
            "   [0 0 4]\n",
            "   [1 1 3]]\n",
            "\n",
            "  [[4 4 3]\n",
            "   [0 4 2]\n",
            "   [1 3 1]]\n",
            "\n",
            "  [[4 3 2]\n",
            "   [4 2 0]\n",
            "   [3 1 0]]\n",
            "\n",
            "  [[3 2 0]\n",
            "   [2 0 1]\n",
            "   [1 0 0]]\n",
            "\n",
            "  [[2 0 0]\n",
            "   [0 1 3]\n",
            "   [0 0 3]]\n",
            "\n",
            "  [[0 0 1]\n",
            "   [1 3 3]\n",
            "   [0 3 2]]\n",
            "\n",
            "  [[0 1 4]\n",
            "   [3 3 0]\n",
            "   [3 2 2]]\n",
            "\n",
            "  [[1 4 1]\n",
            "   [3 0 3]\n",
            "   [2 2 0]]]\n",
            "\n",
            "\n",
            " [[[0 0 4]\n",
            "   [1 1 3]\n",
            "   [4 4 1]]\n",
            "\n",
            "  [[0 4 2]\n",
            "   [1 3 1]\n",
            "   [4 1 0]]\n",
            "\n",
            "  [[4 2 0]\n",
            "   [3 1 0]\n",
            "   [1 0 4]]\n",
            "\n",
            "  [[2 0 1]\n",
            "   [1 0 0]\n",
            "   [0 4 0]]\n",
            "\n",
            "  [[0 1 3]\n",
            "   [0 0 3]\n",
            "   [4 0 4]]\n",
            "\n",
            "  [[1 3 3]\n",
            "   [0 3 2]\n",
            "   [0 4 1]]\n",
            "\n",
            "  [[3 3 0]\n",
            "   [3 2 2]\n",
            "   [4 1 4]]\n",
            "\n",
            "  [[3 0 3]\n",
            "   [2 2 0]\n",
            "   [1 4 1]]]\n",
            "\n",
            "\n",
            " [[[1 1 3]\n",
            "   [4 4 1]\n",
            "   [3 1 0]]\n",
            "\n",
            "  [[1 3 1]\n",
            "   [4 1 0]\n",
            "   [1 0 3]]\n",
            "\n",
            "  [[3 1 0]\n",
            "   [1 0 4]\n",
            "   [0 3 3]]\n",
            "\n",
            "  [[1 0 0]\n",
            "   [0 4 0]\n",
            "   [3 3 2]]\n",
            "\n",
            "  [[0 0 3]\n",
            "   [4 0 4]\n",
            "   [3 2 3]]\n",
            "\n",
            "  [[0 3 2]\n",
            "   [0 4 1]\n",
            "   [2 3 0]]\n",
            "\n",
            "  [[3 2 2]\n",
            "   [4 1 4]\n",
            "   [3 0 2]]\n",
            "\n",
            "  [[2 2 0]\n",
            "   [1 4 1]\n",
            "   [0 2 1]]]\n",
            "\n",
            "\n",
            " [[[4 4 1]\n",
            "   [3 1 0]\n",
            "   [0 3 4]]\n",
            "\n",
            "  [[4 1 0]\n",
            "   [1 0 3]\n",
            "   [3 4 1]]\n",
            "\n",
            "  [[1 0 4]\n",
            "   [0 3 3]\n",
            "   [4 1 1]]\n",
            "\n",
            "  [[0 4 0]\n",
            "   [3 3 2]\n",
            "   [1 1 3]]\n",
            "\n",
            "  [[4 0 4]\n",
            "   [3 2 3]\n",
            "   [1 3 1]]\n",
            "\n",
            "  [[0 4 1]\n",
            "   [2 3 0]\n",
            "   [3 1 4]]\n",
            "\n",
            "  [[4 1 4]\n",
            "   [3 0 2]\n",
            "   [1 4 2]]\n",
            "\n",
            "  [[1 4 1]\n",
            "   [0 2 1]\n",
            "   [4 2 1]]]\n",
            "\n",
            "\n",
            " [[[3 1 0]\n",
            "   [0 3 4]\n",
            "   [0 3 0]]\n",
            "\n",
            "  [[1 0 3]\n",
            "   [3 4 1]\n",
            "   [3 0 1]]\n",
            "\n",
            "  [[0 3 3]\n",
            "   [4 1 1]\n",
            "   [0 1 2]]\n",
            "\n",
            "  [[3 3 2]\n",
            "   [1 1 3]\n",
            "   [1 2 0]]\n",
            "\n",
            "  [[3 2 3]\n",
            "   [1 3 1]\n",
            "   [2 0 3]]\n",
            "\n",
            "  [[2 3 0]\n",
            "   [3 1 4]\n",
            "   [0 3 3]]\n",
            "\n",
            "  [[3 0 2]\n",
            "   [1 4 2]\n",
            "   [3 3 3]]\n",
            "\n",
            "  [[0 2 1]\n",
            "   [4 2 1]\n",
            "   [3 3 0]]]\n",
            "\n",
            "\n",
            " [[[0 3 4]\n",
            "   [0 3 0]\n",
            "   [2 3 3]]\n",
            "\n",
            "  [[3 4 1]\n",
            "   [3 0 1]\n",
            "   [3 3 0]]\n",
            "\n",
            "  [[4 1 1]\n",
            "   [0 1 2]\n",
            "   [3 0 2]]\n",
            "\n",
            "  [[1 1 3]\n",
            "   [1 2 0]\n",
            "   [0 2 2]]\n",
            "\n",
            "  [[1 3 1]\n",
            "   [2 0 3]\n",
            "   [2 2 0]]\n",
            "\n",
            "  [[3 1 4]\n",
            "   [0 3 3]\n",
            "   [2 0 4]]\n",
            "\n",
            "  [[1 4 2]\n",
            "   [3 3 3]\n",
            "   [0 4 0]]\n",
            "\n",
            "  [[4 2 1]\n",
            "   [3 3 0]\n",
            "   [4 0 2]]]\n",
            "\n",
            "\n",
            " [[[0 3 0]\n",
            "   [2 3 3]\n",
            "   [2 0 1]]\n",
            "\n",
            "  [[3 0 1]\n",
            "   [3 3 0]\n",
            "   [0 1 0]]\n",
            "\n",
            "  [[0 1 2]\n",
            "   [3 0 2]\n",
            "   [1 0 1]]\n",
            "\n",
            "  [[1 2 0]\n",
            "   [0 2 2]\n",
            "   [0 1 2]]\n",
            "\n",
            "  [[2 0 3]\n",
            "   [2 2 0]\n",
            "   [1 2 3]]\n",
            "\n",
            "  [[0 3 3]\n",
            "   [2 0 4]\n",
            "   [2 3 2]]\n",
            "\n",
            "  [[3 3 3]\n",
            "   [0 4 0]\n",
            "   [3 2 2]]\n",
            "\n",
            "  [[3 3 0]\n",
            "   [4 0 2]\n",
            "   [2 2 4]]]\n",
            "\n",
            "\n",
            " [[[2 3 3]\n",
            "   [2 0 1]\n",
            "   [3 0 3]]\n",
            "\n",
            "  [[3 3 0]\n",
            "   [0 1 0]\n",
            "   [0 3 4]]\n",
            "\n",
            "  [[3 0 2]\n",
            "   [1 0 1]\n",
            "   [3 4 2]]\n",
            "\n",
            "  [[0 2 2]\n",
            "   [0 1 2]\n",
            "   [4 2 1]]\n",
            "\n",
            "  [[2 2 0]\n",
            "   [1 2 3]\n",
            "   [2 1 4]]\n",
            "\n",
            "  [[2 0 4]\n",
            "   [2 3 2]\n",
            "   [1 4 3]]\n",
            "\n",
            "  [[0 4 0]\n",
            "   [3 2 2]\n",
            "   [4 3 4]]\n",
            "\n",
            "  [[4 0 2]\n",
            "   [2 2 4]\n",
            "   [3 4 1]]]]\n"
          ]
        }
      ]
    },
    {
      "cell_type": "markdown",
      "source": [
        "In a 16x16 array, to get the block-sum of all 4x4 blocks we use :"
      ],
      "metadata": {
        "id": "s6tOj5cf_tXa"
      }
    },
    {
      "cell_type": "code",
      "source": [
        "z = np.ones((16,16))\n",
        "k=4\n",
        "S= np.add.reduceat(np.add.reduceat(z, np.arange(0, z.shape[0], k), axis=0),\n",
        "                   np.arange(0,z.shape[1], k), axis=1)\n",
        "print(S)"
      ],
      "metadata": {
        "colab": {
          "base_uri": "https://localhost:8080/"
        },
        "id": "wMs8GfKT_58D",
        "outputId": "8d120742-563f-4263-c8ab-7472eed35f2f"
      },
      "execution_count": null,
      "outputs": [
        {
          "output_type": "stream",
          "name": "stdout",
          "text": [
            "[[16. 16. 16. 16.]\n",
            " [16. 16. 16. 16.]\n",
            " [16. 16. 16. 16.]\n",
            " [16. 16. 16. 16.]]\n"
          ]
        }
      ]
    },
    {
      "cell_type": "markdown",
      "metadata": {
        "id": "b663f5b0"
      },
      "source": [
        "1.  **`z = np.ones((16,16))`**: Creates a 16x16 NumPy array `z` filled with ones.\n",
        "2.  **`k = 4`**: Sets the size of the blocks to 4x4.\n",
        "3.  **`np.arange(0, z.shape[0], k)`**: Creates an array of indices `[0, 4, 8, 12]` for the rows.\n",
        "4.  **`np.add.reduceat(z, ..., axis=0)`**: Sums the elements of `z` along columns (axis 0) at the specified row indices. This effectively sums each 4x4 block vertically.\n",
        "5.  **`np.arange(0, z.shape[1], k)`**: Creates an array of indices `[0, 4, 8, 12]` for the columns.\n",
        "6.  **`np.add.reduceat(..., ..., axis=1)`**: Sums the result of the previous step along rows (axis 1) at the specified column indices. This completes the summation of each 4x4 block horizontally.\n",
        "7.  **`S = ...`**: Assigns the final block-sum matrix to the variable `S`.\n",
        "8.  **`print(S)`**: Prints the resulting 4x4 matrix `S` containing the sums of the blocks."
      ]
    },
    {
      "cell_type": "markdown",
      "source": [
        "to get the n largest value of an array, we have two methods :"
      ],
      "metadata": {
        "id": "7djukhtzAemb"
      }
    },
    {
      "cell_type": "code",
      "source": [
        "z = np.arange(10000)\n",
        "np.random.shuffle(z)\n",
        "n = 5\n",
        "\n",
        "print(z[np.argsort(z)[-n:]])"
      ],
      "metadata": {
        "colab": {
          "base_uri": "https://localhost:8080/"
        },
        "id": "6tdLgL7YAiGJ",
        "outputId": "bfe83bf9-fe2b-4fdf-db80-3a6f89707254"
      },
      "execution_count": null,
      "outputs": [
        {
          "output_type": "stream",
          "name": "stdout",
          "text": [
            "[9995 9996 9997 9998 9999]\n"
          ]
        }
      ]
    },
    {
      "cell_type": "code",
      "source": [
        "print(z[np.argpartition(-z,n)[:n]])"
      ],
      "metadata": {
        "colab": {
          "base_uri": "https://localhost:8080/"
        },
        "id": "WjRj1B6mAvtc",
        "outputId": "034f3611-74f2-44be-e80c-30338fecf55d"
      },
      "execution_count": null,
      "outputs": [
        {
          "output_type": "stream",
          "name": "stdout",
          "text": [
            "[9999 9998 9997 9996 9995]\n"
          ]
        }
      ]
    },
    {
      "cell_type": "markdown",
      "source": [
        "np.argpartition is faster because it only partially sorts the array to find the indices of the n largest elements, whereas np.argsort fully sorts the entire array."
      ],
      "metadata": {
        "id": "Xk8G_yHMBFmq"
      }
    },
    {
      "cell_type": "markdown",
      "source": [
        "Compute bootstrapped 95% confidence intervals for the mean of a 1D array X :"
      ],
      "metadata": {
        "id": "R-kaDXjZBGPJ"
      }
    },
    {
      "cell_type": "code",
      "source": [
        "x = np.random.randn(100)\n",
        "n = 1000\n",
        "idx = np.random.randint(0,x.size, (n, x.size))\n",
        "means = x[idx].mean(axis=1)\n",
        "confint = np.percentile(means, [2.5, 97.5])\n",
        "print(confint)"
      ],
      "metadata": {
        "colab": {
          "base_uri": "https://localhost:8080/"
        },
        "id": "658YMA1cBSzm",
        "outputId": "aa6b32de-d8ad-406b-d24c-6e05202b5d16"
      },
      "execution_count": null,
      "outputs": [
        {
          "output_type": "stream",
          "name": "stdout",
          "text": [
            "[-0.22879742  0.19128686]\n"
          ]
        }
      ]
    },
    {
      "cell_type": "markdown",
      "metadata": {
        "id": "a04364e9"
      },
      "source": [
        "1.  **`x = np.random.randn(100)`**: Creates a 1D NumPy array `x` with 100 random values from a standard normal distribution.\n",
        "2.  **`n = 1000`**: Sets the number of bootstrap samples to 1000.\n",
        "3.  **`idx = np.random.randint(0,x.size, (n, x.size))`**: Creates an array of random indices with dimensions (1000, 100). This array will be used to resample `x` with replacement for each bootstrap sample.\n",
        "4.  **`means = x[idx].mean(axis=1)`**: Uses the `idx` array to select elements from `x` (performing resampling) and then calculates the mean of each of the 1000 bootstrap samples along `axis=1`.\n",
        "5.  **`confint = np.percentile(means, [2.5, 97.5])`**: Calculates the 2.5th and 97.5th percentiles of the bootstrap means. These percentiles represent the lower and upper bounds of the 95% confidence interval.\n",
        "6.  **`print(confint)`**: Prints the calculated 95% confidence interval for the mean of `x`."
      ]
    }
  ]
}