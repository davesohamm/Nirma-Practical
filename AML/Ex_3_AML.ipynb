{
  "nbformat": 4,
  "nbformat_minor": 0,
  "metadata": {
    "colab": {
      "provenance": [],
      "authorship_tag": "ABX9TyPdfHOsauGMngKkaxre4zHj",
      "include_colab_link": true
    },
    "kernelspec": {
      "name": "python3",
      "display_name": "Python 3"
    },
    "language_info": {
      "name": "python"
    }
  },
  "cells": [
    {
      "cell_type": "markdown",
      "metadata": {
        "id": "view-in-github",
        "colab_type": "text"
      },
      "source": [
        "<a href=\"https://colab.research.google.com/github/davesohamm/Nirma-Practical/blob/branch-2/AML/Ex_3_AML.ipynb\" target=\"_parent\"><img src=\"https://colab.research.google.com/assets/colab-badge.svg\" alt=\"Open In Colab\"/></a>"
      ]
    },
    {
      "cell_type": "markdown",
      "source": [
        "I have Uploaded the titanic xlsx file to the \"/content/sample_data/titanic.xlsx\" path on this Google Colab Notebook. So this path will be used to perform the practical.\n",
        "also i have uploaded it on google drive, link is : https://docs.google.com/spreadsheets/d/14Ey6wsSORvFqwaORyYdTKPajubvUlqmh/edit?usp=drive_link&ouid=103048145379356597986&rtpof=true&sd=true"
      ],
      "metadata": {
        "id": "VjgEM_oGv43w"
      }
    },
    {
      "cell_type": "code",
      "source": [
        "pip install pandas"
      ],
      "metadata": {
        "colab": {
          "base_uri": "https://localhost:8080/"
        },
        "id": "HHS6VTHrwK_3",
        "outputId": "bf7d10f0-d968-44e1-abe0-fff9d714ee47"
      },
      "execution_count": 40,
      "outputs": [
        {
          "output_type": "stream",
          "name": "stdout",
          "text": [
            "Requirement already satisfied: pandas in /usr/local/lib/python3.11/dist-packages (2.2.2)\n",
            "Requirement already satisfied: numpy>=1.23.2 in /usr/local/lib/python3.11/dist-packages (from pandas) (2.0.2)\n",
            "Requirement already satisfied: python-dateutil>=2.8.2 in /usr/local/lib/python3.11/dist-packages (from pandas) (2.9.0.post0)\n",
            "Requirement already satisfied: pytz>=2020.1 in /usr/local/lib/python3.11/dist-packages (from pandas) (2025.2)\n",
            "Requirement already satisfied: tzdata>=2022.7 in /usr/local/lib/python3.11/dist-packages (from pandas) (2025.2)\n",
            "Requirement already satisfied: six>=1.5 in /usr/local/lib/python3.11/dist-packages (from python-dateutil>=2.8.2->pandas) (1.17.0)\n"
          ]
        }
      ]
    },
    {
      "cell_type": "code",
      "source": [
        "import pandas as pd"
      ],
      "metadata": {
        "id": "EZmbDuLuwa1H"
      },
      "execution_count": 41,
      "outputs": []
    },
    {
      "cell_type": "code",
      "source": [
        "data = pd.read_excel(\"/content/sample_data/titanic.xlsx\")"
      ],
      "metadata": {
        "id": "nCxnYkcewTPX"
      },
      "execution_count": 42,
      "outputs": []
    },
    {
      "cell_type": "markdown",
      "source": [
        "To read excel file which is in any folder, we use r' ' before the PATH name :"
      ],
      "metadata": {
        "id": "h0gt7crUworQ"
      }
    },
    {
      "cell_type": "code",
      "source": [
        "data = pd.read_excel(r'/content/sample_data/titanic.xlsx')"
      ],
      "metadata": {
        "id": "_hfyhtIowwZG"
      },
      "execution_count": 43,
      "outputs": []
    },
    {
      "cell_type": "markdown",
      "source": [
        "We can also read any sheet of given excel file using there sheet name or number :"
      ],
      "metadata": {
        "id": "FL33MzEcw5in"
      }
    },
    {
      "cell_type": "code",
      "source": [
        "data = pd.read_excel(r'/content/sample_data/titanic.xlsx', sheet_name = 0)"
      ],
      "metadata": {
        "id": "h8bcAMd8xAGR"
      },
      "execution_count": 44,
      "outputs": []
    },
    {
      "cell_type": "markdown",
      "source": [
        "For the titanic dataset, we do not have multiple sheets inside the excel file. otherwise we could have used methods like :"
      ],
      "metadata": {
        "id": "IO82eX5WxOlf"
      }
    },
    {
      "cell_type": "markdown",
      "source": [
        "data = pd.read_excel(r'/content/sample_data/titanic.xlsx', sheet_name = 1)\n",
        "\n",
        "data = pd.read_excel(r'/content/sample_data/titanic.xlsx', sheet_name = 0)\n",
        "\n",
        "data = pd.read_excel(r'/content/sample_data/titanic.xlsx', sheet_name = 'Sheet2')\n",
        "\n",
        "data = pd.read_excel(r'/content/sample_data/titanic.xlsx', sheet_name = 'Titanic')"
      ],
      "metadata": {
        "id": "7nBMeMj9xWEX"
      }
    },
    {
      "cell_type": "markdown",
      "source": [
        "To display selected columns, we can use these two methods :"
      ],
      "metadata": {
        "id": "7aSIk16kxo1Q"
      }
    },
    {
      "cell_type": "code",
      "source": [
        "print(pd.DataFrame(data, columns=['Name', 'Survived']))"
      ],
      "metadata": {
        "colab": {
          "base_uri": "https://localhost:8080/"
        },
        "id": "lXaFndBqzJx_",
        "outputId": "11a2e930-a84c-4c4a-d7e2-55368e37736b"
      },
      "execution_count": 45,
      "outputs": [
        {
          "output_type": "stream",
          "name": "stdout",
          "text": [
            "                                                  Name  Survived\n",
            "0                              Braund, Mr. Owen Harris         0\n",
            "1    Cumings, Mrs. John Bradley (Florence Briggs Th...         1\n",
            "2                               Heikkinen, Miss. Laina         1\n",
            "3         Futrelle, Mrs. Jacques Heath (Lily May Peel)         1\n",
            "4                             Allen, Mr. William Henry         0\n",
            "..                                                 ...       ...\n",
            "886                              Montvila, Rev. Juozas         0\n",
            "887                       Graham, Miss. Margaret Edith         1\n",
            "888           Johnston, Miss. Catherine Helen \"Carrie\"         0\n",
            "889                              Behr, Mr. Karl Howell         1\n",
            "890                                Dooley, Mr. Patrick         0\n",
            "\n",
            "[891 rows x 2 columns]\n"
          ]
        }
      ]
    },
    {
      "cell_type": "markdown",
      "source": [
        "NOTE - DataFrame function have to be written in this way only. the letter D and F are capital, keep it in mind."
      ],
      "metadata": {
        "id": "ttxl1U1jzVJX"
      }
    },
    {
      "cell_type": "code",
      "source": [
        "print(data[['Name', 'Survived']])"
      ],
      "metadata": {
        "colab": {
          "base_uri": "https://localhost:8080/"
        },
        "id": "kmxuNoRgzedI",
        "outputId": "61138293-fa3f-4a76-a53a-7da02320f6b1"
      },
      "execution_count": 46,
      "outputs": [
        {
          "output_type": "stream",
          "name": "stdout",
          "text": [
            "                                                  Name  Survived\n",
            "0                              Braund, Mr. Owen Harris         0\n",
            "1    Cumings, Mrs. John Bradley (Florence Briggs Th...         1\n",
            "2                               Heikkinen, Miss. Laina         1\n",
            "3         Futrelle, Mrs. Jacques Heath (Lily May Peel)         1\n",
            "4                             Allen, Mr. William Henry         0\n",
            "..                                                 ...       ...\n",
            "886                              Montvila, Rev. Juozas         0\n",
            "887                       Graham, Miss. Margaret Edith         1\n",
            "888           Johnston, Miss. Catherine Helen \"Carrie\"         0\n",
            "889                              Behr, Mr. Karl Howell         1\n",
            "890                                Dooley, Mr. Patrick         0\n",
            "\n",
            "[891 rows x 2 columns]\n"
          ]
        }
      ]
    },
    {
      "cell_type": "markdown",
      "source": [
        "If you want to see only 5 top rows of the selected columns, use head() method :"
      ],
      "metadata": {
        "id": "k6_A_HTfzrT_"
      }
    },
    {
      "cell_type": "code",
      "source": [
        "print(data[['Name', 'Survived']].head())"
      ],
      "metadata": {
        "colab": {
          "base_uri": "https://localhost:8080/"
        },
        "id": "4LYwDP9szw6-",
        "outputId": "d54e709f-80d9-4835-899e-67364ab19ccf"
      },
      "execution_count": 47,
      "outputs": [
        {
          "output_type": "stream",
          "name": "stdout",
          "text": [
            "                                                Name  Survived\n",
            "0                            Braund, Mr. Owen Harris         0\n",
            "1  Cumings, Mrs. John Bradley (Florence Briggs Th...         1\n",
            "2                             Heikkinen, Miss. Laina         1\n",
            "3       Futrelle, Mrs. Jacques Heath (Lily May Peel)         1\n",
            "4                           Allen, Mr. William Henry         0\n"
          ]
        }
      ]
    },
    {
      "cell_type": "markdown",
      "source": [
        "In similar way, use tail() for bottom 5 values :"
      ],
      "metadata": {
        "id": "Tprzjcvfz7A3"
      }
    },
    {
      "cell_type": "code",
      "source": [
        "print(data[['Name', 'Survived']].tail())"
      ],
      "metadata": {
        "colab": {
          "base_uri": "https://localhost:8080/"
        },
        "id": "vxYb7EJB0CZY",
        "outputId": "4a13cd0a-dedc-4000-9332-627c008d1ffb"
      },
      "execution_count": 48,
      "outputs": [
        {
          "output_type": "stream",
          "name": "stdout",
          "text": [
            "                                         Name  Survived\n",
            "886                     Montvila, Rev. Juozas         0\n",
            "887              Graham, Miss. Margaret Edith         1\n",
            "888  Johnston, Miss. Catherine Helen \"Carrie\"         0\n",
            "889                     Behr, Mr. Karl Howell         1\n",
            "890                       Dooley, Mr. Patrick         0\n"
          ]
        }
      ]
    },
    {
      "cell_type": "markdown",
      "source": [
        "You can also display columns using dot operator :"
      ],
      "metadata": {
        "id": "fhR6nh080IsH"
      }
    },
    {
      "cell_type": "code",
      "source": [
        "print(data.Name,data.Survived)"
      ],
      "metadata": {
        "colab": {
          "base_uri": "https://localhost:8080/"
        },
        "id": "Axs7Rwcg0OVX",
        "outputId": "48e4887b-ed30-43c8-d4aa-20da09d00016"
      },
      "execution_count": 49,
      "outputs": [
        {
          "output_type": "stream",
          "name": "stdout",
          "text": [
            "0                                Braund, Mr. Owen Harris\n",
            "1      Cumings, Mrs. John Bradley (Florence Briggs Th...\n",
            "2                                 Heikkinen, Miss. Laina\n",
            "3           Futrelle, Mrs. Jacques Heath (Lily May Peel)\n",
            "4                               Allen, Mr. William Henry\n",
            "                             ...                        \n",
            "886                                Montvila, Rev. Juozas\n",
            "887                         Graham, Miss. Margaret Edith\n",
            "888             Johnston, Miss. Catherine Helen \"Carrie\"\n",
            "889                                Behr, Mr. Karl Howell\n",
            "890                                  Dooley, Mr. Patrick\n",
            "Name: Name, Length: 891, dtype: object 0      0\n",
            "1      1\n",
            "2      1\n",
            "3      1\n",
            "4      0\n",
            "      ..\n",
            "886    0\n",
            "887    1\n",
            "888    0\n",
            "889    1\n",
            "890    0\n",
            "Name: Survived, Length: 891, dtype: int64\n"
          ]
        }
      ]
    },
    {
      "cell_type": "markdown",
      "source": [
        "As you can see, this will create two separate series of values for each columns ."
      ],
      "metadata": {
        "id": "U2nQBO430VMW"
      }
    },
    {
      "cell_type": "markdown",
      "source": [
        "To import dataset from the URLs you can simply just mention the link in the read_csv function :"
      ],
      "metadata": {
        "id": "I9WGE33O0bO3"
      }
    },
    {
      "cell_type": "code",
      "source": [
        "url = 'https://calmcode.io/static/data/titanic.csv'\n",
        "data = pd.read_csv(url)\n",
        "print(data)"
      ],
      "metadata": {
        "colab": {
          "base_uri": "https://localhost:8080/"
        },
        "id": "Wa9nhgOV0lG3",
        "outputId": "e11de261-b3a0-47b6-e42b-08a8a0c0a7ea"
      },
      "execution_count": 50,
      "outputs": [
        {
          "output_type": "stream",
          "name": "stdout",
          "text": [
            "     survived  pclass                                               name  \\\n",
            "0           0       3                            Braund, Mr. Owen Harris   \n",
            "1           1       1  Cumings, Mrs. John Bradley (Florence Briggs Th...   \n",
            "2           1       3                             Heikkinen, Miss. Laina   \n",
            "3           1       1       Futrelle, Mrs. Jacques Heath (Lily May Peel)   \n",
            "4           0       3                           Allen, Mr. William Henry   \n",
            "..        ...     ...                                                ...   \n",
            "709         0       3               Rice, Mrs. William (Margaret Norton)   \n",
            "710         0       2                              Montvila, Rev. Juozas   \n",
            "711         1       1                       Graham, Miss. Margaret Edith   \n",
            "712         1       1                              Behr, Mr. Karl Howell   \n",
            "713         0       3                                Dooley, Mr. Patrick   \n",
            "\n",
            "        sex   age     fare  sibsp  parch  \n",
            "0      male  22.0   7.2500      1      0  \n",
            "1    female  38.0  71.2833      1      0  \n",
            "2    female  26.0   7.9250      0      0  \n",
            "3    female  35.0  53.1000      1      0  \n",
            "4      male  35.0   8.0500      0      0  \n",
            "..      ...   ...      ...    ...    ...  \n",
            "709  female  39.0  29.1250      0      5  \n",
            "710    male  27.0  13.0000      0      0  \n",
            "711  female  19.0  30.0000      0      0  \n",
            "712    male  26.0  30.0000      0      0  \n",
            "713    male  32.0   7.7500      0      0  \n",
            "\n",
            "[714 rows x 8 columns]\n"
          ]
        }
      ]
    },
    {
      "cell_type": "code",
      "source": [
        "data = pd.read_csv(url, sep=';')\n",
        "print(data)"
      ],
      "metadata": {
        "colab": {
          "base_uri": "https://localhost:8080/"
        },
        "id": "Q1d0xg5z1aoA",
        "outputId": "d97844d9-330c-431c-d7ad-67203a258428"
      },
      "execution_count": 51,
      "outputs": [
        {
          "output_type": "stream",
          "name": "stdout",
          "text": [
            "         survived,pclass,name,sex,age,fare,sibsp,parch\n",
            "0     0,3,\"Braund, Mr. Owen Harris\",male,22.0,7.25,1,0\n",
            "1    1,1,\"Cumings, Mrs. John Bradley (Florence Brig...\n",
            "2    1,3,\"Heikkinen, Miss. Laina\",female,26.0,7.925...\n",
            "3    1,1,\"Futrelle, Mrs. Jacques Heath (Lily May Pe...\n",
            "4    0,3,\"Allen, Mr. William Henry\",male,35.0,8.05,0,0\n",
            "..                                                 ...\n",
            "709  0,3,\"Rice, Mrs. William (Margaret Norton)\",fem...\n",
            "710     0,2,\"Montvila, Rev. Juozas\",male,27.0,13.0,0,0\n",
            "711  1,1,\"Graham, Miss. Margaret Edith\",female,19.0...\n",
            "712     1,1,\"Behr, Mr. Karl Howell\",male,26.0,30.0,0,0\n",
            "713       0,3,\"Dooley, Mr. Patrick\",male,32.0,7.75,0,0\n",
            "\n",
            "[714 rows x 1 columns]\n"
          ]
        }
      ]
    },
    {
      "cell_type": "markdown",
      "source": [
        "This code snippet reads data from a CSV file located at the specified URL into a pandas DataFrame. The sep=';' argument tells pandas to use a semicolon as the delimiter between values in the CSV file, instead of the default comma.\n",
        "\n"
      ],
      "metadata": {
        "id": "p861r9fN1qLv"
      }
    },
    {
      "cell_type": "markdown",
      "source": [
        "readind data using column names explicitly :"
      ],
      "metadata": {
        "id": "NC9O61Ml1rDv"
      }
    },
    {
      "cell_type": "code",
      "metadata": {
        "colab": {
          "base_uri": "https://localhost:8080/"
        },
        "id": "adc5f92f",
        "outputId": "127f6def-75e2-4dde-dd69-add6646ebea5"
      },
      "source": [
        "data = pd.read_csv(url, names=['col1', 'col2', 'col3', 'col4', 'col5', 'col6', 'col7', 'col8'])\n",
        "\n",
        "print(data.head())"
      ],
      "execution_count": 52,
      "outputs": [
        {
          "output_type": "stream",
          "name": "stdout",
          "text": [
            "       col1    col2                                               col3  \\\n",
            "0  survived  pclass                                               name   \n",
            "1         0       3                            Braund, Mr. Owen Harris   \n",
            "2         1       1  Cumings, Mrs. John Bradley (Florence Briggs Th...   \n",
            "3         1       3                             Heikkinen, Miss. Laina   \n",
            "4         1       1       Futrelle, Mrs. Jacques Heath (Lily May Peel)   \n",
            "\n",
            "     col4  col5     col6   col7   col8  \n",
            "0     sex   age     fare  sibsp  parch  \n",
            "1    male  22.0     7.25      1      0  \n",
            "2  female  38.0  71.2833      1      0  \n",
            "3  female  26.0    7.925      0      0  \n",
            "4  female  35.0     53.1      1      0  \n"
          ]
        }
      ]
    },
    {
      "cell_type": "markdown",
      "source": [
        "read data using any column as an index :"
      ],
      "metadata": {
        "id": "jNFs9Z5p36wH"
      }
    },
    {
      "cell_type": "code",
      "source": [
        "data = pd.read_csv(url, index_col = 0)\n",
        "print(data)"
      ],
      "metadata": {
        "colab": {
          "base_uri": "https://localhost:8080/"
        },
        "id": "qqVmGNnX3_rf",
        "outputId": "164d589b-f530-4581-f1ee-4e0134d910a4"
      },
      "execution_count": 53,
      "outputs": [
        {
          "output_type": "stream",
          "name": "stdout",
          "text": [
            "          pclass                                               name     sex  \\\n",
            "survived                                                                      \n",
            "0              3                            Braund, Mr. Owen Harris    male   \n",
            "1              1  Cumings, Mrs. John Bradley (Florence Briggs Th...  female   \n",
            "1              3                             Heikkinen, Miss. Laina  female   \n",
            "1              1       Futrelle, Mrs. Jacques Heath (Lily May Peel)  female   \n",
            "0              3                           Allen, Mr. William Henry    male   \n",
            "...          ...                                                ...     ...   \n",
            "0              3               Rice, Mrs. William (Margaret Norton)  female   \n",
            "0              2                              Montvila, Rev. Juozas    male   \n",
            "1              1                       Graham, Miss. Margaret Edith  female   \n",
            "1              1                              Behr, Mr. Karl Howell    male   \n",
            "0              3                                Dooley, Mr. Patrick    male   \n",
            "\n",
            "           age     fare  sibsp  parch  \n",
            "survived                               \n",
            "0         22.0   7.2500      1      0  \n",
            "1         38.0  71.2833      1      0  \n",
            "1         26.0   7.9250      0      0  \n",
            "1         35.0  53.1000      1      0  \n",
            "0         35.0   8.0500      0      0  \n",
            "...        ...      ...    ...    ...  \n",
            "0         39.0  29.1250      0      5  \n",
            "0         27.0  13.0000      0      0  \n",
            "1         19.0  30.0000      0      0  \n",
            "1         26.0  30.0000      0      0  \n",
            "0         32.0   7.7500      0      0  \n",
            "\n",
            "[714 rows x 7 columns]\n"
          ]
        }
      ]
    },
    {
      "cell_type": "markdown",
      "source": [
        "To get selected columns data from csv file use this method :"
      ],
      "metadata": {
        "id": "_S1doYzR5aZW"
      }
    },
    {
      "cell_type": "code",
      "source": [
        "data = pd.read_csv(url, usecols=[1,3,4])\n",
        "print(data)"
      ],
      "metadata": {
        "colab": {
          "base_uri": "https://localhost:8080/"
        },
        "id": "AQPQ5fOY5jzJ",
        "outputId": "84841267-4a32-457b-e977-0d2843696d62"
      },
      "execution_count": 54,
      "outputs": [
        {
          "output_type": "stream",
          "name": "stdout",
          "text": [
            "     pclass     sex   age\n",
            "0         3    male  22.0\n",
            "1         1  female  38.0\n",
            "2         3  female  26.0\n",
            "3         1  female  35.0\n",
            "4         3    male  35.0\n",
            "..      ...     ...   ...\n",
            "709       3  female  39.0\n",
            "710       2    male  27.0\n",
            "711       1  female  19.0\n",
            "712       1    male  26.0\n",
            "713       3    male  32.0\n",
            "\n",
            "[714 rows x 3 columns]\n"
          ]
        }
      ]
    },
    {
      "cell_type": "markdown",
      "source": [
        "Prefix to add to column numbers when no header is available :"
      ],
      "metadata": {
        "id": "Qnamk4ncGCMp"
      }
    },
    {
      "cell_type": "code",
      "source": [
        "data = pd.read_csv(url, header=None, names=[f'Column{i}' for i in range(8)])\n",
        "print(data.head())"
      ],
      "metadata": {
        "colab": {
          "base_uri": "https://localhost:8080/"
        },
        "id": "qUhJy_vOGLE7",
        "outputId": "9ea59ff9-4ec7-405b-ecb9-4fbbe2315db4"
      },
      "execution_count": 55,
      "outputs": [
        {
          "output_type": "stream",
          "name": "stdout",
          "text": [
            "    Column0 Column1                                            Column2  \\\n",
            "0  survived  pclass                                               name   \n",
            "1         0       3                            Braund, Mr. Owen Harris   \n",
            "2         1       1  Cumings, Mrs. John Bradley (Florence Briggs Th...   \n",
            "3         1       3                             Heikkinen, Miss. Laina   \n",
            "4         1       1       Futrelle, Mrs. Jacques Heath (Lily May Peel)   \n",
            "\n",
            "  Column3 Column4  Column5 Column6 Column7  \n",
            "0     sex     age     fare   sibsp   parch  \n",
            "1    male    22.0     7.25       1       0  \n",
            "2  female    38.0  71.2833       1       0  \n",
            "3  female    26.0    7.925       0       0  \n",
            "4  female    35.0     53.1       1       0  \n"
          ]
        }
      ]
    },
    {
      "cell_type": "markdown",
      "source": [
        "To skip the rows we can use skiprows method, in pandas :"
      ],
      "metadata": {
        "id": "PGVaKS6TMGAr"
      }
    },
    {
      "cell_type": "code",
      "source": [
        "data = pd.read_csv(url, skiprows=2)\n",
        "print(data.head())"
      ],
      "metadata": {
        "colab": {
          "base_uri": "https://localhost:8080/"
        },
        "id": "u0HbJda7MNIl",
        "outputId": "e365c8d7-34e9-4c3d-a51b-c76824a40f46"
      },
      "execution_count": 56,
      "outputs": [
        {
          "output_type": "stream",
          "name": "stdout",
          "text": [
            "   1  1.1 Cumings, Mrs. John Bradley (Florence Briggs Thayer)  female  38.0  \\\n",
            "0  1    3                             Heikkinen, Miss. Laina   female  26.0   \n",
            "1  1    1       Futrelle, Mrs. Jacques Heath (Lily May Peel)   female  35.0   \n",
            "2  0    3                           Allen, Mr. William Henry     male  35.0   \n",
            "3  0    1                            McCarthy, Mr. Timothy J     male  54.0   \n",
            "4  0    3                     Palsson, Master. Gosta Leonard     male   2.0   \n",
            "\n",
            "   71.2833  1.2  0  \n",
            "0   7.9250    0  0  \n",
            "1  53.1000    1  0  \n",
            "2   8.0500    0  0  \n",
            "3  51.8625    0  0  \n",
            "4  21.0750    3  1  \n"
          ]
        }
      ]
    },
    {
      "cell_type": "markdown",
      "source": [
        "as you can see, 2 rows are skipped."
      ],
      "metadata": {
        "id": "Za5GeSgtMYYj"
      }
    },
    {
      "cell_type": "markdown",
      "source": [
        "we can select specific columns, and skip even rows, for that we will write :"
      ],
      "metadata": {
        "id": "ImztAePGMcOD"
      }
    },
    {
      "cell_type": "code",
      "source": [
        "data = pd.read_csv(url, usecols=[1,3,4], skiprows=lambda x:x%2==0)\n",
        "print(data)"
      ],
      "metadata": {
        "colab": {
          "base_uri": "https://localhost:8080/"
        },
        "id": "J5vwJg83Mk5K",
        "outputId": "0d61a86d-3cb0-49f5-c941-63be9f137596"
      },
      "execution_count": 57,
      "outputs": [
        {
          "output_type": "stream",
          "name": "stdout",
          "text": [
            "     3    male  22.0\n",
            "0    3  female  26.0\n",
            "1    3    male  35.0\n",
            "2    3    male   2.0\n",
            "3    2  female  14.0\n",
            "4    1  female  58.0\n",
            "..  ..     ...   ...\n",
            "351  2  female  25.0\n",
            "352  3  female  22.0\n",
            "353  3    male  25.0\n",
            "354  2    male  27.0\n",
            "355  1    male  26.0\n",
            "\n",
            "[356 rows x 3 columns]\n"
          ]
        }
      ]
    },
    {
      "cell_type": "markdown",
      "source": [
        "as you can see, we used custom function (lambda) to skip the even rows with a logic."
      ],
      "metadata": {
        "id": "b1IlE_SwM2aK"
      }
    },
    {
      "cell_type": "markdown",
      "metadata": {
        "id": "f228e420"
      },
      "source": [
        "\n",
        "\n",
        "The `skipfooter` argument allows you to skip a specified number of rows at the end of the file. This is useful when your file contains summary rows or other data you don't want to include in your DataFrame."
      ]
    },
    {
      "cell_type": "code",
      "metadata": {
        "colab": {
          "base_uri": "https://localhost:8080/"
        },
        "id": "b4caa545",
        "outputId": "6def45f7-890f-49bc-bb44-aaf48c305cd3"
      },
      "source": [
        "\n",
        "url = 'https://calmcode.io/static/data/titanic.csv'\n",
        "\n",
        "data_skipfooter = pd.read_csv(url, skipfooter=5, engine='python')\n",
        "print(\"Data after skipping last 5 rows:\")\n",
        "print(data_skipfooter.tail())"
      ],
      "execution_count": 58,
      "outputs": [
        {
          "output_type": "stream",
          "name": "stdout",
          "text": [
            "Data after skipping last 5 rows:\n",
            "     survived  pclass                                          name     sex  \\\n",
            "704         1       2  Shelley, Mrs. William (Imanita Parrish Hall)  female   \n",
            "705         0       3                            Markun, Mr. Johann    male   \n",
            "706         0       3                  Dahlberg, Miss. Gerda Ulrika  female   \n",
            "707         0       2                 Banfield, Mr. Frederick James    male   \n",
            "708         0       3                        Sutehall, Mr. Henry Jr    male   \n",
            "\n",
            "      age     fare  sibsp  parch  \n",
            "704  25.0  26.0000      0      1  \n",
            "705  33.0   7.8958      0      0  \n",
            "706  22.0  10.5167      0      0  \n",
            "707  28.0  10.5000      0      0  \n",
            "708  25.0   7.0500      0      0  \n"
          ]
        }
      ]
    },
    {
      "cell_type": "markdown",
      "metadata": {
        "id": "14262f65"
      },
      "source": [
        "\n",
        "\n",
        "The `nrows` argument allows you to read only a specified number of rows from the beginning of the file. This is particularly useful for reading large files in chunks or for quickly inspecting the structure of a large dataset without loading the entire file into memory."
      ]
    },
    {
      "cell_type": "code",
      "metadata": {
        "colab": {
          "base_uri": "https://localhost:8080/"
        },
        "id": "cd0f2890",
        "outputId": "b8480964-f596-46a2-8499-9718105ae6af"
      },
      "source": [
        "# Using nrows with read_excel\n",
        "data_nrows_excel = pd.read_excel(\"/content/sample_data/titanic.xlsx\", nrows=10)\n",
        "print(\"\\nData after reading only the first 10 rows (Excel):\")\n",
        "print(data_nrows_excel)\n",
        "\n",
        "# Using nrows with read_csv\n",
        "url = 'https://calmcode.io/static/data/titanic.csv'\n",
        "data_nrows_csv = pd.read_csv(url, nrows=10)\n",
        "print(\"\\nData after reading only the first 10 rows (CSV):\")\n",
        "print(data_nrows_csv)"
      ],
      "execution_count": 59,
      "outputs": [
        {
          "output_type": "stream",
          "name": "stdout",
          "text": [
            "\n",
            "Data after reading only the first 10 rows (Excel):\n",
            "   PassengerId  Survived  Pclass  \\\n",
            "0            1         0       3   \n",
            "1            2         1       1   \n",
            "2            3         1       3   \n",
            "3            4         1       1   \n",
            "4            5         0       3   \n",
            "5            6         0       3   \n",
            "6            7         0       1   \n",
            "7            8         0       3   \n",
            "8            9         1       3   \n",
            "9           10         1       2   \n",
            "\n",
            "                                                Name     Sex   Age  SibSp  \\\n",
            "0                            Braund, Mr. Owen Harris    male  22.0      1   \n",
            "1  Cumings, Mrs. John Bradley (Florence Briggs Th...  female  38.0      1   \n",
            "2                             Heikkinen, Miss. Laina  female  26.0      0   \n",
            "3       Futrelle, Mrs. Jacques Heath (Lily May Peel)  female  35.0      1   \n",
            "4                           Allen, Mr. William Henry    male  35.0      0   \n",
            "5                                   Moran, Mr. James    male   NaN      0   \n",
            "6                            McCarthy, Mr. Timothy J    male  54.0      0   \n",
            "7                     Palsson, Master. Gosta Leonard    male   2.0      3   \n",
            "8  Johnson, Mrs. Oscar W (Elisabeth Vilhelmina Berg)  female  27.0      0   \n",
            "9                Nasser, Mrs. Nicholas (Adele Achem)  female  14.0      1   \n",
            "\n",
            "   Parch            Ticket     Fare Cabin Embarked  \n",
            "0      0         A/5 21171   7.2500   NaN        S  \n",
            "1      0          PC 17599  71.2833   C85        C  \n",
            "2      0  STON/O2. 3101282   7.9250   NaN        S  \n",
            "3      0            113803  53.1000  C123        S  \n",
            "4      0            373450   8.0500   NaN        S  \n",
            "5      0            330877   8.4583   NaN        Q  \n",
            "6      0             17463  51.8625   E46        S  \n",
            "7      1            349909  21.0750   NaN        S  \n",
            "8      2            347742  11.1333   NaN        S  \n",
            "9      0            237736  30.0708   NaN        C  \n",
            "\n",
            "Data after reading only the first 10 rows (CSV):\n",
            "   survived  pclass                                               name  \\\n",
            "0         0       3                            Braund, Mr. Owen Harris   \n",
            "1         1       1  Cumings, Mrs. John Bradley (Florence Briggs Th...   \n",
            "2         1       3                             Heikkinen, Miss. Laina   \n",
            "3         1       1       Futrelle, Mrs. Jacques Heath (Lily May Peel)   \n",
            "4         0       3                           Allen, Mr. William Henry   \n",
            "5         0       1                            McCarthy, Mr. Timothy J   \n",
            "6         0       3                     Palsson, Master. Gosta Leonard   \n",
            "7         1       3  Johnson, Mrs. Oscar W (Elisabeth Vilhelmina Berg)   \n",
            "8         1       2                Nasser, Mrs. Nicholas (Adele Achem)   \n",
            "9         1       3                    Sandstrom, Miss. Marguerite Rut   \n",
            "\n",
            "      sex   age     fare  sibsp  parch  \n",
            "0    male  22.0   7.2500      1      0  \n",
            "1  female  38.0  71.2833      1      0  \n",
            "2  female  26.0   7.9250      0      0  \n",
            "3  female  35.0  53.1000      1      0  \n",
            "4    male  35.0   8.0500      0      0  \n",
            "5    male  54.0  51.8625      0      0  \n",
            "6    male   2.0  21.0750      3      1  \n",
            "7  female  27.0  11.1333      0      2  \n",
            "8  female  14.0  30.0708      1      0  \n",
            "9  female   4.0  16.7000      1      1  \n"
          ]
        }
      ]
    },
    {
      "cell_type": "markdown",
      "metadata": {
        "id": "59facf4b"
      },
      "source": [
        "\n",
        "\n",
        "The `na_values` argument allows you to specify additional strings that should be recognized as `NaN` (Not a Number) in your data. You can provide a scalar, a list of strings, or a dictionary for column-specific NA values. By default, pandas already recognizes a standard set of strings as `NaN`."
      ]
    },
    {
      "cell_type": "code",
      "metadata": {
        "colab": {
          "base_uri": "https://localhost:8080/"
        },
        "id": "8b6ec7a4",
        "outputId": "91350f41-2f0a-4d5d-9af6-0b9de45f12b4"
      },
      "source": [
        "\n",
        "url = 'https://calmcode.io/static/data/titanic.csv'\n",
        "data_na_values = pd.read_csv(url, na_values={'age': 'unknown'})\n",
        "print(\"\\nData after specifying 'unknown' as NA value for 'age' column:\")\n",
        "print(data_na_values.head())\n",
        "\n"
      ],
      "execution_count": 60,
      "outputs": [
        {
          "output_type": "stream",
          "name": "stdout",
          "text": [
            "\n",
            "Data after specifying 'unknown' as NA value for 'age' column:\n",
            "   survived  pclass                                               name  \\\n",
            "0         0       3                            Braund, Mr. Owen Harris   \n",
            "1         1       1  Cumings, Mrs. John Bradley (Florence Briggs Th...   \n",
            "2         1       3                             Heikkinen, Miss. Laina   \n",
            "3         1       1       Futrelle, Mrs. Jacques Heath (Lily May Peel)   \n",
            "4         0       3                           Allen, Mr. William Henry   \n",
            "\n",
            "      sex   age     fare  sibsp  parch  \n",
            "0    male  22.0   7.2500      1      0  \n",
            "1  female  38.0  71.2833      1      0  \n",
            "2  female  26.0   7.9250      0      0  \n",
            "3  female  35.0  53.1000      1      0  \n",
            "4    male  35.0   8.0500      0      0  \n"
          ]
        }
      ]
    },
    {
      "cell_type": "code",
      "source": [
        "\n",
        "data_na_values_list = pd.read_csv(url, na_values=['', '#N/A', 'N/A', 'unknown'])\n",
        "print(\"\\nData after specifying a list of NA values:\")\n",
        "print(data_na_values_list.head())"
      ],
      "metadata": {
        "colab": {
          "base_uri": "https://localhost:8080/"
        },
        "id": "Q2INSRlYNyCD",
        "outputId": "9eb97e51-d34a-44fc-955e-7fac77060804"
      },
      "execution_count": 61,
      "outputs": [
        {
          "output_type": "stream",
          "name": "stdout",
          "text": [
            "\n",
            "Data after specifying a list of NA values:\n",
            "   survived  pclass                                               name  \\\n",
            "0         0       3                            Braund, Mr. Owen Harris   \n",
            "1         1       1  Cumings, Mrs. John Bradley (Florence Briggs Th...   \n",
            "2         1       3                             Heikkinen, Miss. Laina   \n",
            "3         1       1       Futrelle, Mrs. Jacques Heath (Lily May Peel)   \n",
            "4         0       3                           Allen, Mr. William Henry   \n",
            "\n",
            "      sex   age     fare  sibsp  parch  \n",
            "0    male  22.0   7.2500      1      0  \n",
            "1  female  38.0  71.2833      1      0  \n",
            "2  female  26.0   7.9250      0      0  \n",
            "3  female  35.0  53.1000      1      0  \n",
            "4    male  35.0   8.0500      0      0  \n"
          ]
        }
      ]
    },
    {
      "cell_type": "markdown",
      "metadata": {
        "id": "b68e19a8"
      },
      "source": [
        "\n",
        "\n",
        "The `skip_blank_lines` argument (which is `True` by default) determines whether blank lines in a delimited file should be skipped. Setting it to `False` will cause pandas to read blank lines as rows filled with `NaN` values. This argument is primarily used with text-based files like CSV."
      ]
    },
    {
      "cell_type": "code",
      "metadata": {
        "colab": {
          "base_uri": "https://localhost:8080/"
        },
        "id": "e004c1e3",
        "outputId": "421ba4ee-90f9-4a55-823f-2122ccdbaf2d"
      },
      "source": [
        "\n",
        "url = 'https://calmcode.io/static/data/titanic.csv'\n",
        "data_skip_blank_lines = pd.read_csv(url, skip_blank_lines=True) # This is the default behavior\n",
        "print(\"\\nData after skipping blank lines (default behavior):\")\n",
        "print(data_skip_blank_lines.head())\n"
      ],
      "execution_count": 62,
      "outputs": [
        {
          "output_type": "stream",
          "name": "stdout",
          "text": [
            "\n",
            "Data after skipping blank lines (default behavior):\n",
            "   survived  pclass                                               name  \\\n",
            "0         0       3                            Braund, Mr. Owen Harris   \n",
            "1         1       1  Cumings, Mrs. John Bradley (Florence Briggs Th...   \n",
            "2         1       3                             Heikkinen, Miss. Laina   \n",
            "3         1       1       Futrelle, Mrs. Jacques Heath (Lily May Peel)   \n",
            "4         0       3                           Allen, Mr. William Henry   \n",
            "\n",
            "      sex   age     fare  sibsp  parch  \n",
            "0    male  22.0   7.2500      1      0  \n",
            "1  female  38.0  71.2833      1      0  \n",
            "2  female  26.0   7.9250      0      0  \n",
            "3  female  35.0  53.1000      1      0  \n",
            "4    male  35.0   8.0500      0      0  \n"
          ]
        }
      ]
    }
  ]
}