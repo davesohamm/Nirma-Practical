{
  "nbformat": 4,
  "nbformat_minor": 0,
  "metadata": {
    "colab": {
      "provenance": [],
      "authorship_tag": "ABX9TyNzr0/yw+ybwfc3bXQmf3UV",
      "include_colab_link": true
    },
    "kernelspec": {
      "name": "python3",
      "display_name": "Python 3"
    },
    "language_info": {
      "name": "python"
    }
  },
  "cells": [
    {
      "cell_type": "markdown",
      "metadata": {
        "id": "view-in-github",
        "colab_type": "text"
      },
      "source": [
        "<a href=\"https://colab.research.google.com/github/davesohamm/Nirma-Practical/blob/branch-2/AML/Ex_1_AML.ipynb\" target=\"_parent\"><img src=\"https://colab.research.google.com/assets/colab-badge.svg\" alt=\"Open In Colab\"/></a>"
      ]
    },
    {
      "cell_type": "markdown",
      "source": [
        "Import NumPy library to efficiently work with data structures like Matrices, Vectors and Tensors."
      ],
      "metadata": {
        "id": "2J2DlurmL5JL"
      }
    },
    {
      "cell_type": "code",
      "source": [
        "import numpy as np"
      ],
      "metadata": {
        "id": "iETQGYQFLuCG"
      },
      "execution_count": null,
      "outputs": []
    },
    {
      "cell_type": "markdown",
      "source": [
        "One Directional Array using Numpy"
      ],
      "metadata": {
        "id": "4Wyd2n5ZIXJZ"
      }
    },
    {
      "cell_type": "code",
      "execution_count": null,
      "metadata": {
        "colab": {
          "base_uri": "https://localhost:8080/"
        },
        "id": "YRZhddzmG8Fl",
        "outputId": "d56d44d5-c82e-4ac0-b9c6-d0a0cad737df"
      },
      "outputs": [
        {
          "output_type": "stream",
          "name": "stdout",
          "text": [
            "Row Array: \n",
            "[1 2 3]\n",
            "Column Array: \n",
            "[[1]\n",
            " [2]\n",
            " [3]]\n"
          ]
        }
      ],
      "source": [
        "\n",
        "row_array = np.array([1, 2, 3])\n",
        "column_array = np.array([[1],\n",
        "                         [2],\n",
        "                         [3]])\n",
        "print(f\"Row Array: \\n{row_array}\")\n",
        "print(f\"Column Array: \\n{column_array}\")"
      ]
    },
    {
      "cell_type": "markdown",
      "source": [
        "Two Dimensional Array using Numpy"
      ],
      "metadata": {
        "id": "_KuS-juSIiFw"
      }
    },
    {
      "cell_type": "code",
      "source": [
        "twod_array = np.array([[1, 2, 3],\n",
        "                     [4, 5, 6],\n",
        "                     [7, 8, 9]])\n",
        "print(f\"2D Array: \\n{twod_array}\")"
      ],
      "metadata": {
        "colab": {
          "base_uri": "https://localhost:8080/"
        },
        "id": "DWaod8foIuSH",
        "outputId": "a5be6ad4-88e6-43dc-bc69-fd99a7d32f7b"
      },
      "execution_count": null,
      "outputs": [
        {
          "output_type": "stream",
          "name": "stdout",
          "text": [
            "2D Array: \n",
            "[[1 2 3]\n",
            " [4 5 6]\n",
            " [7 8 9]]\n"
          ]
        }
      ]
    },
    {
      "cell_type": "markdown",
      "source": [
        "Two-Dimensional Matrix using np.asmatrix() method."
      ],
      "metadata": {
        "id": "-VI4NLXXJEmq"
      }
    },
    {
      "cell_type": "markdown",
      "source": [
        "NOTE - np.mat() method is deprecated in new NumPy versions"
      ],
      "metadata": {
        "id": "BOmhJAHkLljm"
      }
    },
    {
      "cell_type": "code",
      "source": [
        "twod_matrix = np.asmatrix([[11, 12, 13],\n",
        "                     [14, 15, 16],\n",
        "                     [17, 18, 19]])\n",
        "print(f\"2D Matrix: \\n{twod_matrix}\")"
      ],
      "metadata": {
        "colab": {
          "base_uri": "https://localhost:8080/"
        },
        "id": "UCd1VtyqJ9GP",
        "outputId": "68241a30-bae3-4921-9141-d5cfb84c655d"
      },
      "execution_count": null,
      "outputs": [
        {
          "output_type": "stream",
          "name": "stdout",
          "text": [
            "2D Matrix: \n",
            "[[11 12 13]\n",
            " [14 15 16]\n",
            " [17 18 19]]\n"
          ]
        }
      ]
    },
    {
      "cell_type": "markdown",
      "source": [
        "Sparse Matrix is a matrix with very few non-zero values. To efficiently represent the data, we use compressed sparsed row (CSR Matrix) method from the scipy library.\n",
        "\n",
        "The Compressed Sparse Row (CSR) format is designed for fast row operations.\n",
        " It stores only the non-zero values and their corresponding column indices, along with pointers to the start of each row in the data array."
      ],
      "metadata": {
        "id": "TsjmK5iuKYzO"
      }
    },
    {
      "cell_type": "code",
      "source": [
        "from scipy import sparse\n",
        "\n",
        "matrix_example = ([[1, 4, 0],\n",
        "                         [0, 2, 0],\n",
        "                         [5, 0, 3]])\n",
        "matrix_sparse = sparse.csr_matrix(matrix_example)\n",
        "print(f\"Sparse Matrix (CSR): \\n{matrix_sparse}\")"
      ],
      "metadata": {
        "colab": {
          "base_uri": "https://localhost:8080/"
        },
        "id": "pzO5gdCmMobc",
        "outputId": "14304880-8d5c-4caa-ac71-c9a547f0e14c"
      },
      "execution_count": null,
      "outputs": [
        {
          "output_type": "stream",
          "name": "stdout",
          "text": [
            "Sparse Matrix (CSR): \n",
            "<Compressed Sparse Row sparse matrix of dtype 'int64'\n",
            "\twith 5 stored elements and shape (3, 3)>\n",
            "  Coords\tValues\n",
            "  (0, 0)\t1\n",
            "  (0, 1)\t4\n",
            "  (1, 1)\t2\n",
            "  (2, 0)\t5\n",
            "  (2, 2)\t3\n"
          ]
        }
      ]
    },
    {
      "cell_type": "markdown",
      "source": [
        "CSC Matrix method from scipy library.\n",
        "\n",
        "the Compressed Sparse Column (CSC) format is optimized for fast column operations.\n",
        " It stores non-zero values and their corresponding row indices, with pointers to the start of each column in the data array.\n"
      ],
      "metadata": {
        "id": "EFQJM2yJN4Pm"
      }
    },
    {
      "cell_type": "code",
      "source": [
        "matrix_sparse = sparse.csc_matrix(matrix_example)\n",
        "print(f\"Sparse Matrix (CSC): \\n{matrix_sparse}\")"
      ],
      "metadata": {
        "colab": {
          "base_uri": "https://localhost:8080/"
        },
        "id": "sMYtGfqbOgBL",
        "outputId": "5e331b90-2af6-4ad1-82e2-f8c446479c6a"
      },
      "execution_count": null,
      "outputs": [
        {
          "output_type": "stream",
          "name": "stdout",
          "text": [
            "Sparse Matrix (CSC): \n",
            "<Compressed Sparse Column sparse matrix of dtype 'int64'\n",
            "\twith 5 stored elements and shape (3, 3)>\n",
            "  Coords\tValues\n",
            "  (0, 0)\t1\n",
            "  (2, 0)\t5\n",
            "  (0, 1)\t4\n",
            "  (1, 1)\t2\n",
            "  (2, 2)\t3\n"
          ]
        }
      ]
    },
    {
      "cell_type": "markdown",
      "source": [
        "Let's Create a larger matrix to understand the sparse methods in better way."
      ],
      "metadata": {
        "id": "Ny_iJsRzQG6B"
      }
    },
    {
      "cell_type": "code",
      "source": [
        "large_matrix = np.array([[1, 0, 0, 0, 4, 5, 0, 0],\n",
        "                         [0, 0, 0, 0, 1, 1, 1, 0],\n",
        "                         [1, 0, 0, 0, 0, 0, 0 ,0],\n",
        "                         [2, 0, 0, 0, 0, 1, 0, 0]])\n",
        "sparse_large_matrix = sparse.csr_matrix(large_matrix)\n",
        "print(f\"Sparse Matrix (CSR): \\n{sparse_large_matrix}\")\n"
      ],
      "metadata": {
        "colab": {
          "base_uri": "https://localhost:8080/"
        },
        "id": "xuuyPsEVQbA5",
        "outputId": "f822b59b-d874-487e-e0c9-3c8edf5d5a45"
      },
      "execution_count": null,
      "outputs": [
        {
          "output_type": "stream",
          "name": "stdout",
          "text": [
            "Sparse Matrix (CSR): \n",
            "<Compressed Sparse Row sparse matrix of dtype 'int64'\n",
            "\twith 9 stored elements and shape (4, 8)>\n",
            "  Coords\tValues\n",
            "  (0, 0)\t1\n",
            "  (0, 4)\t4\n",
            "  (0, 5)\t5\n",
            "  (1, 4)\t1\n",
            "  (1, 5)\t1\n",
            "  (1, 6)\t1\n",
            "  (2, 0)\t1\n",
            "  (3, 0)\t2\n",
            "  (3, 5)\t1\n"
          ]
        }
      ]
    },
    {
      "cell_type": "markdown",
      "source": [
        "To select a specific element from a vector and matrix, we use the indexes."
      ],
      "metadata": {
        "id": "IuByGl3VRBKg"
      }
    },
    {
      "cell_type": "code",
      "source": [
        "new_array = np.array([1, 2, 3, 4, 5, 6, 7, 8, 9, 10])\n",
        "new_array[2]"
      ],
      "metadata": {
        "colab": {
          "base_uri": "https://localhost:8080/"
        },
        "id": "jUS1Fjv-R4qX",
        "outputId": "c8170e60-b4f1-4aed-b29f-83756784516a"
      },
      "execution_count": null,
      "outputs": [
        {
          "output_type": "execute_result",
          "data": {
            "text/plain": [
              "np.int64(3)"
            ]
          },
          "metadata": {},
          "execution_count": 9
        }
      ]
    },
    {
      "cell_type": "code",
      "source": [
        "new_matrix = np.array([[1, 2, 3, 4, 5],\n",
        "               [6, 7, 8, 9, 10],\n",
        "               [11, 12, 13, 14, 15]])\n",
        "new_matrix[2][3]"
      ],
      "metadata": {
        "colab": {
          "base_uri": "https://localhost:8080/"
        },
        "id": "bU4faiwxSJUf",
        "outputId": "d9fd5ec5-b5c1-4ab5-fb09-b5a1a5f1dcf8"
      },
      "execution_count": null,
      "outputs": [
        {
          "output_type": "execute_result",
          "data": {
            "text/plain": [
              "np.int64(14)"
            ]
          },
          "metadata": {},
          "execution_count": 10
        }
      ]
    },
    {
      "cell_type": "markdown",
      "source": [
        "To select all the elements of the array, we use \" : \""
      ],
      "metadata": {
        "id": "Y6i-RKBYSaKI"
      }
    },
    {
      "cell_type": "code",
      "source": [
        "new_array[:]"
      ],
      "metadata": {
        "colab": {
          "base_uri": "https://localhost:8080/"
        },
        "id": "NGUg-5xNSyuv",
        "outputId": "d85c0d20-e728-4b2d-f63a-24a2fe4a647b"
      },
      "execution_count": null,
      "outputs": [
        {
          "output_type": "execute_result",
          "data": {
            "text/plain": [
              "array([ 1,  2,  3,  4,  5,  6,  7,  8,  9, 10])"
            ]
          },
          "metadata": {},
          "execution_count": 11
        }
      ]
    },
    {
      "cell_type": "markdown",
      "source": [
        "To select all the elements to a certain index, we use \" :n \"\n",
        "\n",
        "(NOTE - here all the elements starting from the index 0 to n (n included) will get selected)"
      ],
      "metadata": {
        "id": "R042rIj_S2H_"
      }
    },
    {
      "cell_type": "code",
      "source": [
        "new_array[:4]"
      ],
      "metadata": {
        "colab": {
          "base_uri": "https://localhost:8080/"
        },
        "id": "UcMaulO2TAOF",
        "outputId": "b3420ef2-3144-4cdf-d713-c6e38ee5440c"
      },
      "execution_count": null,
      "outputs": [
        {
          "output_type": "execute_result",
          "data": {
            "text/plain": [
              "array([1, 2, 3, 4])"
            ]
          },
          "metadata": {},
          "execution_count": 12
        }
      ]
    },
    {
      "cell_type": "markdown",
      "source": [
        "to select a last element from the array, we use [-1]"
      ],
      "metadata": {
        "id": "_vimJgq5Thpd"
      }
    },
    {
      "cell_type": "code",
      "source": [
        "new_array[-1]"
      ],
      "metadata": {
        "colab": {
          "base_uri": "https://localhost:8080/"
        },
        "id": "GscWZEdsTrsd",
        "outputId": "15613a66-aa7b-436d-fd99-a22df22ba528"
      },
      "execution_count": null,
      "outputs": [
        {
          "output_type": "execute_result",
          "data": {
            "text/plain": [
              "np.int64(10)"
            ]
          },
          "metadata": {},
          "execution_count": 13
        }
      ]
    },
    {
      "cell_type": "markdown",
      "source": [
        "In Matrix, we can select any rows and columns, by separating rows and columns by using \" , \" coma .\n",
        "\n",
        "(NOTE - if we select matrix[:2, 1:3] it will select 0th and 1st row, and 1st and 2nd column.\n",
        "where if we use [:, 1:3] it will select all the rows, and 1st and 2nd column.)"
      ],
      "metadata": {
        "id": "aiFULlRmTv1E"
      }
    },
    {
      "cell_type": "code",
      "source": [
        "new_matrix[:2, 1:3]"
      ],
      "metadata": {
        "colab": {
          "base_uri": "https://localhost:8080/"
        },
        "id": "uoBEBNBLUjVU",
        "outputId": "7ff3af36-558c-42bf-c7df-675365879599"
      },
      "execution_count": null,
      "outputs": [
        {
          "output_type": "execute_result",
          "data": {
            "text/plain": [
              "array([[2, 3],\n",
              "       [7, 8]])"
            ]
          },
          "metadata": {},
          "execution_count": 14
        }
      ]
    },
    {
      "cell_type": "code",
      "source": [
        "new_matrix[:, 1:]"
      ],
      "metadata": {
        "colab": {
          "base_uri": "https://localhost:8080/"
        },
        "id": "1NjiRemzWfVi",
        "outputId": "53d6a45c-3fe2-4896-ae12-fd75842a4990"
      },
      "execution_count": null,
      "outputs": [
        {
          "output_type": "execute_result",
          "data": {
            "text/plain": [
              "array([[ 2,  3,  4,  5],\n",
              "       [ 7,  8,  9, 10],\n",
              "       [12, 13, 14, 15]])"
            ]
          },
          "metadata": {},
          "execution_count": 15
        }
      ]
    },
    {
      "cell_type": "markdown",
      "source": [
        "We use \" shape \" method so know the dimensions of the matrix.\n",
        "(NOTE- for the output (m, n), m is the number of rows and n is the number columns)"
      ],
      "metadata": {
        "id": "CMBrxr_3WkZq"
      }
    },
    {
      "cell_type": "code",
      "source": [
        "new_matrix.shape"
      ],
      "metadata": {
        "colab": {
          "base_uri": "https://localhost:8080/"
        },
        "id": "qghJVAg-Wx3z",
        "outputId": "a63983e9-ca25-4ece-f647-c153ea45bc65"
      },
      "execution_count": null,
      "outputs": [
        {
          "output_type": "execute_result",
          "data": {
            "text/plain": [
              "(3, 5)"
            ]
          },
          "metadata": {},
          "execution_count": 16
        }
      ]
    },
    {
      "cell_type": "markdown",
      "source": [
        "\" size \" method shows the total number of elements in a matrix.\n",
        "\n",
        "number of rows * number of columns"
      ],
      "metadata": {
        "id": "BPwdaHdiXEpT"
      }
    },
    {
      "cell_type": "code",
      "source": [
        "new_matrix.size"
      ],
      "metadata": {
        "colab": {
          "base_uri": "https://localhost:8080/"
        },
        "id": "-0dG7WYXXQFK",
        "outputId": "82db1b77-eb63-4c93-d39a-3f4bac1c8a03"
      },
      "execution_count": null,
      "outputs": [
        {
          "output_type": "execute_result",
          "data": {
            "text/plain": [
              "15"
            ]
          },
          "metadata": {},
          "execution_count": 17
        }
      ]
    },
    {
      "cell_type": "markdown",
      "source": [
        "If you want to know if you have 2 - dimensional matrix, or 3-dimensional matrix or multi-directional matrix, Use \" ndim \" method."
      ],
      "metadata": {
        "id": "3D2yB4ssXTA7"
      }
    },
    {
      "cell_type": "code",
      "source": [
        "new_matrix.ndim"
      ],
      "metadata": {
        "colab": {
          "base_uri": "https://localhost:8080/"
        },
        "id": "UMi5mg8NXnf5",
        "outputId": "009d2814-c78b-400e-f445-e5cf4fdbc606"
      },
      "execution_count": null,
      "outputs": [
        {
          "output_type": "execute_result",
          "data": {
            "text/plain": [
              "2"
            ]
          },
          "metadata": {},
          "execution_count": 18
        }
      ]
    },
    {
      "cell_type": "markdown",
      "source": [
        "We can use Lambda Functions to perform various operations on something. Lambda functions are particularly useful for creating short, simple functions on the fly.\n",
        "\n",
        "(NOTE - Here we are using np.vectorize() function.\n",
        "The np.vectorize function in NumPy is a convenience tool that takes a Python function and returns a vectorized version of it, allowing the function to be applied to entire arrays or sequences of objects.)"
      ],
      "metadata": {
        "id": "UjK5Tqr2Xpr6"
      }
    },
    {
      "cell_type": "code",
      "source": [
        "# Create a function that adds 999 to something\n",
        "add_999 = lambda i: i + 999\n",
        "\n",
        "# Create vectorized function\n",
        "vectorized_add_999 = np.vectorize(add_999)\n",
        "\n",
        "# apply the function to all the elements of the matrix\n",
        "vectorized_add_999(new_matrix)"
      ],
      "metadata": {
        "colab": {
          "base_uri": "https://localhost:8080/"
        },
        "id": "0cCt6ZCpYymx",
        "outputId": "f391ffc1-0ed7-47c2-e19c-f0cbeefc2e87"
      },
      "execution_count": null,
      "outputs": [
        {
          "output_type": "execute_result",
          "data": {
            "text/plain": [
              "array([[1000, 1001, 1002, 1003, 1004],\n",
              "       [1005, 1006, 1007, 1008, 1009],\n",
              "       [1010, 1011, 1012, 1013, 1014]])"
            ]
          },
          "metadata": {},
          "execution_count": 19
        }
      ]
    },
    {
      "cell_type": "markdown",
      "source": [
        "(NOTE - vectorize method is same as a for loop. To increase the performance, we can use a method called broadcasting.)"
      ],
      "metadata": {
        "id": "AI4g_Q76ZsCw"
      }
    },
    {
      "cell_type": "code",
      "source": [
        "new_matrix + 2000"
      ],
      "metadata": {
        "colab": {
          "base_uri": "https://localhost:8080/"
        },
        "id": "gYCoFZZaage4",
        "outputId": "aa1bf8c5-84b7-4199-b68e-d4c947e94200"
      },
      "execution_count": null,
      "outputs": [
        {
          "output_type": "execute_result",
          "data": {
            "text/plain": [
              "array([[2001, 2002, 2003, 2004, 2005],\n",
              "       [2006, 2007, 2008, 2009, 2010],\n",
              "       [2011, 2012, 2013, 2014, 2015]])"
            ]
          },
          "metadata": {},
          "execution_count": 20
        }
      ]
    },
    {
      "cell_type": "markdown",
      "source": [
        "By using vectorize methods, we can specifically select a part of the matrix, where we want to use a function. And that will not be broadcasted on the entire matrix."
      ],
      "metadata": {
        "id": "jSbjgNxnanee"
      }
    },
    {
      "cell_type": "code",
      "source": [
        "add_500 = lambda i : i + 500\n",
        "vectorized_add_500 = np.vectorize(add_500)\n",
        "vectorized_add_500(new_matrix[:, 1:3])"
      ],
      "metadata": {
        "colab": {
          "base_uri": "https://localhost:8080/"
        },
        "id": "lPbZQ-nyayo_",
        "outputId": "05c67812-6102-4256-fc70-e81757bbbfb9"
      },
      "execution_count": null,
      "outputs": [
        {
          "output_type": "execute_result",
          "data": {
            "text/plain": [
              "array([[502, 503],\n",
              "       [507, 508],\n",
              "       [512, 513]])"
            ]
          },
          "metadata": {},
          "execution_count": 21
        }
      ]
    },
    {
      "cell_type": "markdown",
      "source": [
        "To fin minimum and maximum values from the matrix, we use np.min and np.max inbuilt functions of NumPy"
      ],
      "metadata": {
        "id": "wx9eDty0bO8_"
      }
    },
    {
      "cell_type": "code",
      "source": [
        "np.max(new_matrix)"
      ],
      "metadata": {
        "colab": {
          "base_uri": "https://localhost:8080/"
        },
        "id": "6zJ2daY6bZ3O",
        "outputId": "1dc4de8d-e769-43d1-b411-b360f1bef57a"
      },
      "execution_count": null,
      "outputs": [
        {
          "output_type": "execute_result",
          "data": {
            "text/plain": [
              "np.int64(15)"
            ]
          },
          "metadata": {},
          "execution_count": 22
        }
      ]
    },
    {
      "cell_type": "code",
      "source": [
        "np.min(new_matrix)"
      ],
      "metadata": {
        "colab": {
          "base_uri": "https://localhost:8080/"
        },
        "id": "1yvPI92Mbe3G",
        "outputId": "b291a557-9678-4360-c9a9-29b84c0ebc36"
      },
      "execution_count": null,
      "outputs": [
        {
          "output_type": "execute_result",
          "data": {
            "text/plain": [
              "np.int64(1)"
            ]
          },
          "metadata": {},
          "execution_count": 23
        }
      ]
    },
    {
      "cell_type": "markdown",
      "source": [
        "To find min or max for the specific row or column, we use the axis.\n",
        "\n",
        "if axis = 1, we find the min/max row\n",
        "if axis = 0, we find the min/max column"
      ],
      "metadata": {
        "id": "AHdhAtSSbnel"
      }
    },
    {
      "cell_type": "code",
      "source": [
        "np.max(new_matrix, axis = 1)"
      ],
      "metadata": {
        "colab": {
          "base_uri": "https://localhost:8080/"
        },
        "id": "IraPzHSXcHJ8",
        "outputId": "54ea309e-63b5-41c7-f110-760ab32ec542"
      },
      "execution_count": null,
      "outputs": [
        {
          "output_type": "execute_result",
          "data": {
            "text/plain": [
              "array([ 5, 10, 15])"
            ]
          },
          "metadata": {},
          "execution_count": 24
        }
      ]
    },
    {
      "cell_type": "code",
      "source": [
        "np.min(new_matrix, axis = 0)"
      ],
      "metadata": {
        "colab": {
          "base_uri": "https://localhost:8080/"
        },
        "id": "p2cy60Y9caM-",
        "outputId": "5e7186f8-8796-4855-ecf0-69b7026c8dfb"
      },
      "execution_count": null,
      "outputs": [
        {
          "output_type": "execute_result",
          "data": {
            "text/plain": [
              "array([1, 2, 3, 4, 5])"
            ]
          },
          "metadata": {},
          "execution_count": 25
        }
      ]
    },
    {
      "cell_type": "markdown",
      "source": [
        "To find the mean of all the elements of a matrix, we use np.mean method"
      ],
      "metadata": {
        "id": "cbYxnmhXcf_E"
      }
    },
    {
      "cell_type": "code",
      "source": [
        "np.mean(new_matrix)"
      ],
      "metadata": {
        "colab": {
          "base_uri": "https://localhost:8080/"
        },
        "id": "p8iH4wUhcurm",
        "outputId": "672e04af-7077-42a7-e822-e45a927c7295"
      },
      "execution_count": null,
      "outputs": [
        {
          "output_type": "execute_result",
          "data": {
            "text/plain": [
              "np.float64(8.0)"
            ]
          },
          "metadata": {},
          "execution_count": 26
        }
      ]
    },
    {
      "cell_type": "markdown",
      "source": [
        "To find the standard deviation, we use np.std method"
      ],
      "metadata": {
        "id": "t7lVSFxHc_7k"
      }
    },
    {
      "cell_type": "code",
      "source": [
        "np.std(new_matrix)"
      ],
      "metadata": {
        "colab": {
          "base_uri": "https://localhost:8080/"
        },
        "id": "hNLHhTaidGZF",
        "outputId": "a1f427b0-c749-4fe8-91c0-34414632e744"
      },
      "execution_count": null,
      "outputs": [
        {
          "output_type": "execute_result",
          "data": {
            "text/plain": [
              "np.float64(4.320493798938574)"
            ]
          },
          "metadata": {},
          "execution_count": 27
        }
      ]
    },
    {
      "cell_type": "markdown",
      "source": [
        "To find the Variance, we use np.var method"
      ],
      "metadata": {
        "id": "iSKsDuBtdI_8"
      }
    },
    {
      "cell_type": "code",
      "source": [
        "np.var(new_matrix)"
      ],
      "metadata": {
        "colab": {
          "base_uri": "https://localhost:8080/"
        },
        "id": "u7azijyLdMls",
        "outputId": "91619b08-5ec0-4fa6-8a4a-54bba95fdd2c"
      },
      "execution_count": null,
      "outputs": [
        {
          "output_type": "execute_result",
          "data": {
            "text/plain": [
              "np.float64(18.666666666666668)"
            ]
          },
          "metadata": {},
          "execution_count": 28
        }
      ]
    },
    {
      "cell_type": "markdown",
      "source": [
        "To find the mean of all the rows we can use axis = 1, and for columns, we use axis = 0."
      ],
      "metadata": {
        "id": "rZtbB0OhdW5b"
      }
    },
    {
      "cell_type": "code",
      "source": [
        "np.mean(new_matrix, axis = 1)"
      ],
      "metadata": {
        "colab": {
          "base_uri": "https://localhost:8080/"
        },
        "id": "c_ecAiA4dhz9",
        "outputId": "58899d97-0841-4af6-dbed-13e08d770eb8"
      },
      "execution_count": null,
      "outputs": [
        {
          "output_type": "execute_result",
          "data": {
            "text/plain": [
              "array([ 3.,  8., 13.])"
            ]
          },
          "metadata": {},
          "execution_count": 29
        }
      ]
    },
    {
      "cell_type": "code",
      "source": [
        "np.mean(new_matrix, axis = 0)"
      ],
      "metadata": {
        "colab": {
          "base_uri": "https://localhost:8080/"
        },
        "id": "xgba6YOqdsHr",
        "outputId": "b3a29804-3d2b-41ca-e7fd-1ff9ef3c064f"
      },
      "execution_count": null,
      "outputs": [
        {
          "output_type": "execute_result",
          "data": {
            "text/plain": [
              "array([ 6.,  7.,  8.,  9., 10.])"
            ]
          },
          "metadata": {},
          "execution_count": 30
        }
      ]
    },
    {
      "cell_type": "markdown",
      "source": [
        "To reshape the matrix in terms of number of rows and columns without changing it's elements, we can use reshape(m , n) function.\n",
        "where m = rows, n = columns"
      ],
      "metadata": {
        "id": "ERgQaJgyYD94"
      }
    },
    {
      "cell_type": "code",
      "source": [
        "new_matrix.reshape(5, 3)"
      ],
      "metadata": {
        "colab": {
          "base_uri": "https://localhost:8080/"
        },
        "id": "xQ-r5lB8cRmo",
        "outputId": "ff1bc9b6-0402-4d6b-ac55-8acda929f2ab"
      },
      "execution_count": null,
      "outputs": [
        {
          "output_type": "execute_result",
          "data": {
            "text/plain": [
              "array([[ 1,  2,  3],\n",
              "       [ 4,  5,  6],\n",
              "       [ 7,  8,  9],\n",
              "       [10, 11, 12],\n",
              "       [13, 14, 15]])"
            ]
          },
          "metadata": {},
          "execution_count": 31
        }
      ]
    },
    {
      "cell_type": "markdown",
      "source": [
        "To get only 1 column, and as many as rows as needed, we use reshape(-1, 1) funciton."
      ],
      "metadata": {
        "id": "S7iU_y95d2HA"
      }
    },
    {
      "cell_type": "code",
      "source": [
        "new_matrix.reshape(-1, 1)"
      ],
      "metadata": {
        "colab": {
          "base_uri": "https://localhost:8080/"
        },
        "id": "FlczPH2Sdqle",
        "outputId": "b7173bdc-a8c1-44fb-cb2b-5a004ecd2e2b"
      },
      "execution_count": null,
      "outputs": [
        {
          "output_type": "execute_result",
          "data": {
            "text/plain": [
              "array([[ 1],\n",
              "       [ 2],\n",
              "       [ 3],\n",
              "       [ 4],\n",
              "       [ 5],\n",
              "       [ 6],\n",
              "       [ 7],\n",
              "       [ 8],\n",
              "       [ 9],\n",
              "       [10],\n",
              "       [11],\n",
              "       [12],\n",
              "       [13],\n",
              "       [14],\n",
              "       [15]])"
            ]
          },
          "metadata": {},
          "execution_count": 34
        }
      ]
    },
    {
      "cell_type": "markdown",
      "source": [
        "To get only one row and as many as columns as needed, we use reshape(-1,1) function."
      ],
      "metadata": {
        "id": "Y2V6rn8QeBvm"
      }
    },
    {
      "cell_type": "code",
      "source": [
        "new_matrix.reshape(1, -1)"
      ],
      "metadata": {
        "colab": {
          "base_uri": "https://localhost:8080/"
        },
        "id": "2cfcPIvbdyCb",
        "outputId": "bf5bb14f-a50e-40b6-86a7-d3d4947914ab"
      },
      "execution_count": null,
      "outputs": [
        {
          "output_type": "execute_result",
          "data": {
            "text/plain": [
              "array([[ 1,  2,  3,  4,  5,  6,  7,  8,  9, 10, 11, 12, 13, 14, 15]])"
            ]
          },
          "metadata": {},
          "execution_count": 35
        }
      ]
    },
    {
      "cell_type": "markdown",
      "source": [
        "to check the size of atrix (m x n), we use size() function."
      ],
      "metadata": {
        "id": "NbBJY1Encwb_"
      }
    },
    {
      "cell_type": "code",
      "source": [
        "new_matrix.size"
      ],
      "metadata": {
        "colab": {
          "base_uri": "https://localhost:8080/"
        },
        "id": "uJfMZGaodC4q",
        "outputId": "3048d3d4-4362-4230-fe53-4e0493c749c5"
      },
      "execution_count": null,
      "outputs": [
        {
          "output_type": "execute_result",
          "data": {
            "text/plain": [
              "15"
            ]
          },
          "metadata": {},
          "execution_count": 32
        }
      ]
    },
    {
      "cell_type": "markdown",
      "source": [
        "Transpose means the rows and columns get swapped with each other. To find the matrix transpose, we use matrix_name.T method:"
      ],
      "metadata": {
        "id": "Jv58ddCbeQLq"
      }
    },
    {
      "cell_type": "code",
      "source": [
        "new_matrix.T"
      ],
      "metadata": {
        "colab": {
          "base_uri": "https://localhost:8080/"
        },
        "id": "_XbHG3mxebkN",
        "outputId": "0cbcd367-5804-452a-c63c-014cc9299484"
      },
      "execution_count": null,
      "outputs": [
        {
          "output_type": "execute_result",
          "data": {
            "text/plain": [
              "array([[ 1,  6, 11],\n",
              "       [ 2,  7, 12],\n",
              "       [ 3,  8, 13],\n",
              "       [ 4,  9, 14],\n",
              "       [ 5, 10, 15]])"
            ]
          },
          "metadata": {},
          "execution_count": 36
        }
      ]
    },
    {
      "cell_type": "markdown",
      "source": [
        "Although, we cannot find Transpose of a vector, because it is just a collection of values. That's why the transpose of a vector is vector itself. Here is an example :"
      ],
      "metadata": {
        "id": "6n_mL9-yeoXJ"
      }
    },
    {
      "cell_type": "code",
      "source": [
        "np.array([10, 11, 12, 13, 14, 15]).T"
      ],
      "metadata": {
        "colab": {
          "base_uri": "https://localhost:8080/"
        },
        "id": "04Ee9KNHezzB",
        "outputId": "ff45c3f9-9090-47cb-d5d6-1800a52806b7"
      },
      "execution_count": null,
      "outputs": [
        {
          "output_type": "execute_result",
          "data": {
            "text/plain": [
              "array([10, 11, 12, 13, 14, 15])"
            ]
          },
          "metadata": {},
          "execution_count": 37
        }
      ]
    },
    {
      "cell_type": "markdown",
      "source": [
        "To find a transpose of a linearly shaped matrix we entirely convert a row into a column or a column into a row.\n",
        "\n",
        "NOTE- a vector is defined with only one pair of brackets []\n",
        "where a matrix is defined with two pair of brackets [ [ ] ]"
      ],
      "metadata": {
        "id": "bWij3TQ_e_op"
      }
    },
    {
      "cell_type": "code",
      "source": [
        "np.array([[11, 12, 13, 14, 15]]).T"
      ],
      "metadata": {
        "colab": {
          "base_uri": "https://localhost:8080/"
        },
        "id": "7Ca6S4BXf1Nn",
        "outputId": "c4b1f1b1-a65d-4352-9e56-b9ffe18f8e59"
      },
      "execution_count": null,
      "outputs": [
        {
          "output_type": "execute_result",
          "data": {
            "text/plain": [
              "array([[11],\n",
              "       [12],\n",
              "       [13],\n",
              "       [14],\n",
              "       [15]])"
            ]
          },
          "metadata": {},
          "execution_count": 38
        }
      ]
    },
    {
      "cell_type": "markdown",
      "source": [
        "No matter whatever dimension matrix you have, you can flatten it linearly using flatten() method."
      ],
      "metadata": {
        "id": "FyZ8OYzHgHXt"
      }
    },
    {
      "cell_type": "code",
      "source": [
        "new_matrix.flatten()"
      ],
      "metadata": {
        "colab": {
          "base_uri": "https://localhost:8080/"
        },
        "id": "wuYKp5VFgSwF",
        "outputId": "de2cbfb2-40aa-4cf0-91b0-5b9856c01330"
      },
      "execution_count": null,
      "outputs": [
        {
          "output_type": "execute_result",
          "data": {
            "text/plain": [
              "array([ 1,  2,  3,  4,  5,  6,  7,  8,  9, 10, 11, 12, 13, 14, 15])"
            ]
          },
          "metadata": {},
          "execution_count": 39
        }
      ]
    },
    {
      "cell_type": "markdown",
      "source": [
        "NOTE - flatten() method is used to transform a matrix into one-dimensional array.\n",
        "But if we want to create a row matrix of an original matrix, we use the reshape(1, -1) method.\n",
        "\n",
        "Look at the difference between one pair of brackets, and two pairs."
      ],
      "metadata": {
        "id": "-iq180jFgWpr"
      }
    },
    {
      "cell_type": "code",
      "source": [
        "new_matrix.reshape(1, -1)"
      ],
      "metadata": {
        "colab": {
          "base_uri": "https://localhost:8080/"
        },
        "id": "7aMNOPV5g32E",
        "outputId": "839063c0-2561-4232-e7b2-89f492b52527"
      },
      "execution_count": null,
      "outputs": [
        {
          "output_type": "execute_result",
          "data": {
            "text/plain": [
              "array([[ 1,  2,  3,  4,  5,  6,  7,  8,  9, 10, 11, 12, 13, 14, 15]])"
            ]
          },
          "metadata": {},
          "execution_count": 40
        }
      ]
    },
    {
      "cell_type": "markdown",
      "source": [
        "The rank of a matrix is the maximum number of linearly independent rows or columns in the matrix. It essentially indicates the dimension of the vector space spanned by the matrix's rows or columns. A matrix has rank 'r' if there exists at least one minor of order 'r' that is non-zero, and all minors of order (r+1) or higher are zero."
      ],
      "metadata": {
        "id": "FaxyOSHhhMlq"
      }
    },
    {
      "cell_type": "markdown",
      "source": [
        "To find Rank of Matrix, we use np.linalg.matrix_rank(matrix_name) method. Here is an example :"
      ],
      "metadata": {
        "id": "Bu9DIsZ-hfGP"
      }
    },
    {
      "cell_type": "code",
      "source": [
        "np.linalg.matrix_rank(new_matrix)"
      ],
      "metadata": {
        "colab": {
          "base_uri": "https://localhost:8080/"
        },
        "id": "mkbqEGGXhhlp",
        "outputId": "8fa9d7a7-5e70-49ea-9125-9a65e5a5e697"
      },
      "execution_count": null,
      "outputs": [
        {
          "output_type": "execute_result",
          "data": {
            "text/plain": [
              "np.int64(2)"
            ]
          },
          "metadata": {},
          "execution_count": 41
        }
      ]
    },
    {
      "cell_type": "markdown",
      "source": [
        "The determinant of a matrix is a scalar value that can be computed from the elements of a square matrix."
      ],
      "metadata": {
        "id": "GuevDGZ4hwBx"
      }
    },
    {
      "cell_type": "markdown",
      "source": [
        "To find determinant of a matrix, we use np.linalg.det(matrix_name) method. here is an example :"
      ],
      "metadata": {
        "id": "oyGvDIuKh8XT"
      }
    },
    {
      "cell_type": "code",
      "source": [
        "matrix_example = np.array([[90, 80, 70],\n",
        "                         [60, 50, 40],\n",
        "                         [30, 20, 10]])\n",
        "np.linalg.det(matrix_example)"
      ],
      "metadata": {
        "colab": {
          "base_uri": "https://localhost:8080/"
        },
        "id": "Co6EbnPOiLe3",
        "outputId": "320be726-bedd-4f04-e2da-68e1fcafa041"
      },
      "execution_count": null,
      "outputs": [
        {
          "output_type": "execute_result",
          "data": {
            "text/plain": [
              "np.float64(4.263256414560599e-12)"
            ]
          },
          "metadata": {},
          "execution_count": 44
        }
      ]
    },
    {
      "cell_type": "markdown",
      "source": [
        "To find the diagonal of the matrix, we use matrix_name.diagonal() method."
      ],
      "metadata": {
        "id": "vFkNxSUdixND"
      }
    },
    {
      "cell_type": "code",
      "source": [
        "matrix_example.diagonal()"
      ],
      "metadata": {
        "colab": {
          "base_uri": "https://localhost:8080/"
        },
        "id": "ZtVa_yDVi7Sz",
        "outputId": "0347edaa-95b7-4bfa-c8d0-1d94a5fae173"
      },
      "execution_count": null,
      "outputs": [
        {
          "output_type": "execute_result",
          "data": {
            "text/plain": [
              "array([90, 50, 10])"
            ]
          },
          "metadata": {},
          "execution_count": 45
        }
      ]
    },
    {
      "cell_type": "markdown",
      "source": [
        "To find the anti-diagonal, firstly we have to flip the matrix using fliplr(). then use diagonal() method."
      ],
      "metadata": {
        "id": "eOzGDq8bjG1g"
      }
    },
    {
      "cell_type": "code",
      "source": [
        "np.fliplr(matrix_example).diagonal()"
      ],
      "metadata": {
        "colab": {
          "base_uri": "https://localhost:8080/"
        },
        "id": "EBrC4cDcjWPX",
        "outputId": "339c51ee-0d08-479d-a748-c7d7b760c548"
      },
      "execution_count": null,
      "outputs": [
        {
          "output_type": "execute_result",
          "data": {
            "text/plain": [
              "array([70, 50, 30])"
            ]
          },
          "metadata": {},
          "execution_count": 46
        }
      ]
    },
    {
      "cell_type": "markdown",
      "source": [
        "We can also find diagonals off from the main diagonals using positive and negative offset values. Here is an example :"
      ],
      "metadata": {
        "id": "lp5RfZDGjcl3"
      }
    },
    {
      "cell_type": "code",
      "source": [
        "matrix_example.diagonal(offset=1)"
      ],
      "metadata": {
        "colab": {
          "base_uri": "https://localhost:8080/"
        },
        "id": "XpO7MBTQjtRp",
        "outputId": "a83dce16-f95d-478c-dd46-3570e86cf070"
      },
      "execution_count": null,
      "outputs": [
        {
          "output_type": "execute_result",
          "data": {
            "text/plain": [
              "array([80, 40])"
            ]
          },
          "metadata": {},
          "execution_count": 47
        }
      ]
    },
    {
      "cell_type": "code",
      "source": [
        "matrix_example.diagonal(offset=-1)"
      ],
      "metadata": {
        "colab": {
          "base_uri": "https://localhost:8080/"
        },
        "id": "FTnic5qvj0y3",
        "outputId": "74874c65-eace-4dda-d680-98487c95af66"
      },
      "execution_count": null,
      "outputs": [
        {
          "output_type": "execute_result",
          "data": {
            "text/plain": [
              "array([60, 20])"
            ]
          },
          "metadata": {},
          "execution_count": 49
        }
      ]
    },
    {
      "cell_type": "markdown",
      "source": [
        "Trace of matrix = Sum of all the diagonal elements of the matrix.\n",
        "To find trace, we use trace() method directly."
      ],
      "metadata": {
        "id": "csjjFV2xj6TD"
      }
    },
    {
      "cell_type": "code",
      "source": [
        "matrix_example.trace()"
      ],
      "metadata": {
        "colab": {
          "base_uri": "https://localhost:8080/"
        },
        "id": "b7WsBaXxko43",
        "outputId": "3a7416b8-3ea0-4fc5-eaa0-d1db8795e6d8"
      },
      "execution_count": null,
      "outputs": [
        {
          "output_type": "execute_result",
          "data": {
            "text/plain": [
              "np.int64(150)"
            ]
          },
          "metadata": {},
          "execution_count": 50
        }
      ]
    },
    {
      "cell_type": "markdown",
      "source": [
        "NOTE - We can also use the sum of matrix.diagonal() to find the trace of a matrix."
      ],
      "metadata": {
        "id": "R-HMTo2Pktcv"
      }
    },
    {
      "cell_type": "code",
      "source": [
        "sum(matrix_example.diagonal())"
      ],
      "metadata": {
        "colab": {
          "base_uri": "https://localhost:8080/"
        },
        "id": "VMTYiRxvkzZu",
        "outputId": "d3c9d51d-866c-4cdc-8a44-d917a0a7e11a"
      },
      "execution_count": null,
      "outputs": [
        {
          "output_type": "execute_result",
          "data": {
            "text/plain": [
              "np.int64(150)"
            ]
          },
          "metadata": {},
          "execution_count": 51
        }
      ]
    },
    {
      "cell_type": "markdown",
      "source": [
        "Eigenvalues are special scalar values associated with a square matrix that characterize its effect on eigenvectors. To find the eigenvalues of an $n \\times n$ matrix $A$, we solve the characteristic equation: $det(A - \\lambda I) = 0$, where $I$ is the identity matrix of the same size as $A$, and $det$ represents the determinant.\n",
        "\n",
        "Eigenvectors are the non-zero vectors that, when acted upon by a matrix, only change in magnitude (stretched or compressed) but not in direction (or have their direction reversed). Once the eigenvalues are determined, the eigenvectors are found by solving the equation: $(A - \\lambda I)v = 0$ for each eigenvalue $\\lambda$. This equation represents a system of linear equations that, when solved, yields the eigenvectors corresponding to that eigenvalue.\n"
      ],
      "metadata": {
        "id": "gmsMIkKQlQPe"
      }
    },
    {
      "cell_type": "markdown",
      "source": [
        "To find eigenvalues and eigenvectors we use np.linalg.eig(matrix_name) method.\n",
        "\n",
        "then to display the eigenvalues we write eigenvalues, and for eigenvectors we write eigenvectors, simply."
      ],
      "metadata": {
        "id": "2gNLu6zHmt7T"
      }
    },
    {
      "cell_type": "code",
      "source": [
        "eigenvalues, eigenvectors = np.linalg.eig(matrix_example)\n"
      ],
      "metadata": {
        "id": "c0_uKbVjm8mg"
      },
      "execution_count": null,
      "outputs": []
    },
    {
      "cell_type": "code",
      "source": [
        "eigenvalues"
      ],
      "metadata": {
        "colab": {
          "base_uri": "https://localhost:8080/"
        },
        "id": "2mja_b_pnDIr",
        "outputId": "abcf779f-a21a-49e3-8190-f3ba5cad7a25"
      },
      "execution_count": null,
      "outputs": [
        {
          "output_type": "execute_result",
          "data": {
            "text/plain": [
              "array([ 1.61168440e+02, -1.11684397e+01, -2.43383159e-15])"
            ]
          },
          "metadata": {},
          "execution_count": 53
        }
      ]
    },
    {
      "cell_type": "code",
      "source": [
        "eigenvectors"
      ],
      "metadata": {
        "colab": {
          "base_uri": "https://localhost:8080/"
        },
        "id": "w8c89cnYnFGZ",
        "outputId": "36a711da-9d7e-4d08-f65a-f1d4ea6a5774"
      },
      "execution_count": null,
      "outputs": [
        {
          "output_type": "execute_result",
          "data": {
            "text/plain": [
              "array([[-0.8186735 , -0.61232756,  0.40824829],\n",
              "       [-0.52532209,  0.08675134, -0.81649658],\n",
              "       [-0.23197069,  0.78583024,  0.40824829]])"
            ]
          },
          "metadata": {},
          "execution_count": 54
        }
      ]
    },
    {
      "cell_type": "markdown",
      "source": [
        "The dot product, also known as the scalar product or inner product, is a mathematical operation that takes two vectors and returns a single scalar value. It's calculated by multiplying corresponding components of the vectors and summing the results."
      ],
      "metadata": {
        "id": "E6b0nxy9nIyC"
      }
    },
    {
      "cell_type": "markdown",
      "source": [
        "to find a dot product of two vectors we use np.dot(vector_1, vector_2) method."
      ],
      "metadata": {
        "id": "7AkSMi0Sn5cr"
      }
    },
    {
      "cell_type": "code",
      "source": [
        "vector_1 = np.array([101, 102, 103])\n",
        "vector_2 = np.array([104, 105, 106])\n",
        "np.dot(vector_1, vector_2)"
      ],
      "metadata": {
        "colab": {
          "base_uri": "https://localhost:8080/"
        },
        "id": "Bx0OYwUMoBnd",
        "outputId": "b39f7c4c-cd2b-48db-a61b-5544ad03a32c"
      },
      "execution_count": null,
      "outputs": [
        {
          "output_type": "execute_result",
          "data": {
            "text/plain": [
              "np.int64(32132)"
            ]
          },
          "metadata": {},
          "execution_count": 55
        }
      ]
    },
    {
      "cell_type": "markdown",
      "source": [
        "NOTE - In recent python versions, we can also use '@' as a dot multiplication operator."
      ],
      "metadata": {
        "id": "EXr7QTpqoKGG"
      }
    },
    {
      "cell_type": "code",
      "source": [
        "vector_1 @ vector_2"
      ],
      "metadata": {
        "colab": {
          "base_uri": "https://localhost:8080/"
        },
        "id": "v760w2QOoSDd",
        "outputId": "c0fec222-fd1c-4912-bc33-f99fc4d63f8e"
      },
      "execution_count": null,
      "outputs": [
        {
          "output_type": "execute_result",
          "data": {
            "text/plain": [
              "np.int64(32132)"
            ]
          },
          "metadata": {},
          "execution_count": 56
        }
      ]
    },
    {
      "cell_type": "markdown",
      "source": [
        "To add two matrices, we use np.add(matrix_1, matrix_2) method."
      ],
      "metadata": {
        "id": "Yxr8ID8Podf0"
      }
    },
    {
      "cell_type": "code",
      "source": [
        "matrix_1 = np.array([[101, 201, 301],\n",
        "                     [401, 501, 601],\n",
        "                     [701, 801, 901]])\n",
        "matrix_2 = np.array([[102, 202, 302],\n",
        "                     [402, 502, 602],\n",
        "                     [702, 802, 902]])"
      ],
      "metadata": {
        "id": "ByIItNT8ok88"
      },
      "execution_count": null,
      "outputs": []
    },
    {
      "cell_type": "code",
      "source": [
        "np.add(matrix_1, matrix_2)"
      ],
      "metadata": {
        "colab": {
          "base_uri": "https://localhost:8080/"
        },
        "id": "bH5-luSLovy7",
        "outputId": "00a12e25-dd8b-44ea-9df0-9af4ec046ca3"
      },
      "execution_count": null,
      "outputs": [
        {
          "output_type": "execute_result",
          "data": {
            "text/plain": [
              "array([[ 203,  403,  603],\n",
              "       [ 803, 1003, 1203],\n",
              "       [1403, 1603, 1803]])"
            ]
          },
          "metadata": {},
          "execution_count": 58
        }
      ]
    },
    {
      "cell_type": "markdown",
      "source": [
        "In the same way, to subtract matrix 2 from matrix 1, we use np.subtract(matrix_1, matrix_2) method."
      ],
      "metadata": {
        "id": "SpfmsBZwo0Xx"
      }
    },
    {
      "cell_type": "code",
      "source": [
        "np.subtract(matrix_1, matrix_2)"
      ],
      "metadata": {
        "colab": {
          "base_uri": "https://localhost:8080/"
        },
        "id": "JY456CoSo-MM",
        "outputId": "ddaa2ddd-84c3-42cd-cd99-b2c0084ebd55"
      },
      "execution_count": null,
      "outputs": [
        {
          "output_type": "execute_result",
          "data": {
            "text/plain": [
              "array([[-1, -1, -1],\n",
              "       [-1, -1, -1],\n",
              "       [-1, -1, -1]])"
            ]
          },
          "metadata": {},
          "execution_count": 59
        }
      ]
    },
    {
      "cell_type": "markdown",
      "source": [
        "NOTE- We can also simple use + and - operator to show the addition and subtraction of two matrices."
      ],
      "metadata": {
        "id": "o4rqr8J_pBX3"
      }
    },
    {
      "cell_type": "code",
      "source": [
        "matrix_1 + matrix_2"
      ],
      "metadata": {
        "colab": {
          "base_uri": "https://localhost:8080/"
        },
        "id": "Vgtf3OqupHZO",
        "outputId": "487d6caa-1c53-4723-d2cc-042b26a4c269"
      },
      "execution_count": null,
      "outputs": [
        {
          "output_type": "execute_result",
          "data": {
            "text/plain": [
              "array([[ 203,  403,  603],\n",
              "       [ 803, 1003, 1203],\n",
              "       [1403, 1603, 1803]])"
            ]
          },
          "metadata": {},
          "execution_count": 60
        }
      ]
    },
    {
      "cell_type": "code",
      "source": [
        "matrix_2 - matrix_1"
      ],
      "metadata": {
        "colab": {
          "base_uri": "https://localhost:8080/"
        },
        "id": "c6w0xQlppKzY",
        "outputId": "439b8e03-e256-44ef-cd55-3d490592f925"
      },
      "execution_count": null,
      "outputs": [
        {
          "output_type": "execute_result",
          "data": {
            "text/plain": [
              "array([[1, 1, 1],\n",
              "       [1, 1, 1],\n",
              "       [1, 1, 1]])"
            ]
          },
          "metadata": {},
          "execution_count": 61
        }
      ]
    },
    {
      "cell_type": "markdown",
      "source": [
        "To find matrix dot multiplication we can use the same two mathods, np.dot(matrix_1, matrix_2) and '@' operator methods :"
      ],
      "metadata": {
        "id": "-N9X-Mm5pOLP"
      }
    },
    {
      "cell_type": "code",
      "source": [
        "np.dot(matrix_1, matrix_2)"
      ],
      "metadata": {
        "colab": {
          "base_uri": "https://localhost:8080/"
        },
        "id": "AhZPlN5HppKj",
        "outputId": "9bd8bc77-0867-4917-82a5-62afb9c04155"
      },
      "execution_count": null,
      "outputs": [
        {
          "output_type": "execute_result",
          "data": {
            "text/plain": [
              "array([[ 302406,  362706,  423006],\n",
              "       [ 664206,  814506,  964806],\n",
              "       [1026006, 1266306, 1506606]])"
            ]
          },
          "metadata": {},
          "execution_count": 62
        }
      ]
    },
    {
      "cell_type": "code",
      "source": [
        "matrix_1 @ matrix_2"
      ],
      "metadata": {
        "colab": {
          "base_uri": "https://localhost:8080/"
        },
        "id": "3OH6nkCzps7r",
        "outputId": "bfaf94d7-406f-4fc5-c442-01946aef580e"
      },
      "execution_count": null,
      "outputs": [
        {
          "output_type": "execute_result",
          "data": {
            "text/plain": [
              "array([[ 302406,  362706,  423006],\n",
              "       [ 664206,  814506,  964806],\n",
              "       [1026006, 1266306, 1506606]])"
            ]
          },
          "metadata": {},
          "execution_count": 63
        }
      ]
    },
    {
      "cell_type": "markdown",
      "source": [
        "The inverse of a matrix, denoted as A⁻¹, is another matrix that, when multiplied by the original matrix A, results in the identity matrix."
      ],
      "metadata": {
        "id": "jFZ51BSnp8Px"
      }
    },
    {
      "cell_type": "markdown",
      "source": [
        "To find the inverse of a matrix, we simply use np.linalg.inv(matrix_name) method :"
      ],
      "metadata": {
        "id": "Sbt2outNp-Er"
      }
    },
    {
      "cell_type": "code",
      "source": [
        "matrix_new = np.array([[1, 7],\n",
        "                       [2, 4]])\n",
        "np.linalg.inv(matrix_new)"
      ],
      "metadata": {
        "colab": {
          "base_uri": "https://localhost:8080/"
        },
        "id": "eLTgP1oEqE57",
        "outputId": "6e742467-5bfa-4329-921b-94857aae62c2"
      },
      "execution_count": null,
      "outputs": [
        {
          "output_type": "execute_result",
          "data": {
            "text/plain": [
              "array([[-0.4,  0.7],\n",
              "       [ 0.2, -0.1]])"
            ]
          },
          "metadata": {},
          "execution_count": 70
        }
      ]
    },
    {
      "cell_type": "markdown",
      "source": [
        "NOTE- if we multiply the inverse of a matrix with the matrix itself, it returns the identity matrix."
      ],
      "metadata": {
        "id": "wjVxrm96qcvB"
      }
    },
    {
      "cell_type": "code",
      "source": [
        "matrix_new @ np.linalg.inv(matrix_new)"
      ],
      "metadata": {
        "colab": {
          "base_uri": "https://localhost:8080/"
        },
        "id": "gffjaA0iqpz9",
        "outputId": "fdf5f54e-0f83-4bf8-b049-b77249b84cfd"
      },
      "execution_count": null,
      "outputs": [
        {
          "output_type": "execute_result",
          "data": {
            "text/plain": [
              "array([[ 1.00000000e+00, -8.32667268e-17],\n",
              "       [ 0.00000000e+00,  1.00000000e+00]])"
            ]
          },
          "metadata": {},
          "execution_count": 71
        }
      ]
    },
    {
      "cell_type": "markdown",
      "source": [
        "To generate pseudorandom values, we use np.random.random(n) method. where n = number of random values you want. if the range is not specified, it takes from 0 to 1 automatically.\n",
        "\n",
        "NOTE- we use np.random.seed(0) method because random module typically uses the current system time as the default seed, resulting in different sequences of numbers each time the program is executed."
      ],
      "metadata": {
        "id": "W_6YW0Eyrbsg"
      }
    },
    {
      "cell_type": "code",
      "source": [
        "np.random.seed(0)\n",
        "np.random.random(5)"
      ],
      "metadata": {
        "colab": {
          "base_uri": "https://localhost:8080/"
        },
        "id": "_i1A2GlSsc7o",
        "outputId": "a5313973-b35a-46de-bd2f-b230c79bbb54"
      },
      "execution_count": null,
      "outputs": [
        {
          "output_type": "execute_result",
          "data": {
            "text/plain": [
              "array([0.5488135 , 0.71518937, 0.60276338, 0.54488318, 0.4236548 ])"
            ]
          },
          "metadata": {},
          "execution_count": 72
        }
      ]
    },
    {
      "cell_type": "markdown",
      "source": [
        "To find random values for a custom range, we use\n",
        "\n",
        "np.random.randint(lower_limit, higher_limit, number of values you want)"
      ],
      "metadata": {
        "id": "BEQU2t33sifz"
      }
    },
    {
      "cell_type": "code",
      "source": [
        "np.random.randint(0, 100, 10)"
      ],
      "metadata": {
        "colab": {
          "base_uri": "https://localhost:8080/"
        },
        "id": "WMDbHADLsy-M",
        "outputId": "42bc655e-bd7e-4cea-d823-622b5a070e4e"
      },
      "execution_count": null,
      "outputs": [
        {
          "output_type": "execute_result",
          "data": {
            "text/plain": [
              "array([21, 36, 87, 70, 88, 88, 12, 58, 65, 39])"
            ]
          },
          "metadata": {},
          "execution_count": 73
        }
      ]
    },
    {
      "cell_type": "markdown",
      "source": [
        "To draw n numbers from a normal distribution with mean m and standard deviation sd, we use the method\n",
        "\n",
        "np.random.normal(m, sd, n)"
      ],
      "metadata": {
        "id": "0p9UtQ9ftLnn"
      }
    },
    {
      "cell_type": "code",
      "source": [
        "np.random.normal(0.0, 2.0, 5)"
      ],
      "metadata": {
        "colab": {
          "base_uri": "https://localhost:8080/"
        },
        "id": "eJQS_5NTtfxS",
        "outputId": "9f72c09c-8298-4380-892d-d86a4c563a57"
      },
      "execution_count": null,
      "outputs": [
        {
          "output_type": "execute_result",
          "data": {
            "text/plain": [
              "array([ 5.09040156,  2.16162383,  0.96862431,  1.15828096, -0.36316515])"
            ]
          },
          "metadata": {},
          "execution_count": 74
        }
      ]
    },
    {
      "cell_type": "markdown",
      "source": [
        "To draw n numbers from a logistic distribution with mean m and scale of s, we use the method\n",
        "\n",
        "np.random.logistic(m, s, n)"
      ],
      "metadata": {
        "id": "sguCmSmktrE2"
      }
    },
    {
      "cell_type": "code",
      "source": [
        "np.random.logistic(0.0, 2.0, 5)"
      ],
      "metadata": {
        "colab": {
          "base_uri": "https://localhost:8080/"
        },
        "id": "gPYliZJyt43M",
        "outputId": "8192dcbb-be5a-4529-95ab-8b17a8969fd5"
      },
      "execution_count": null,
      "outputs": [
        {
          "output_type": "execute_result",
          "data": {
            "text/plain": [
              "array([ 2.53750564, -4.0177466 ,  1.15004274, -3.57542694,  5.67499937])"
            ]
          },
          "metadata": {},
          "execution_count": 75
        }
      ]
    },
    {
      "cell_type": "markdown",
      "source": [
        "To draw n numbers greater than or equal to l and less than h we use the method\n",
        "\n",
        "np.random.uniform(l, h, n)"
      ],
      "metadata": {
        "id": "APOBFJ_Lt_4G"
      }
    },
    {
      "cell_type": "code",
      "source": [
        "np.random.uniform(1.0, 5.0, 5)"
      ],
      "metadata": {
        "colab": {
          "base_uri": "https://localhost:8080/"
        },
        "id": "eKpkEbScuNS5",
        "outputId": "8a50dfc7-5fe8-45f0-aca7-33b3db2066b9"
      },
      "execution_count": null,
      "outputs": [
        {
          "output_type": "execute_result",
          "data": {
            "text/plain": [
              "array([3.08739329, 2.65864776, 2.05822245, 4.09693476, 2.82460133])"
            ]
          },
          "metadata": {},
          "execution_count": 76
        }
      ]
    }
  ]
}